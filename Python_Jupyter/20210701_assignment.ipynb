{
 "cells": [
  {
   "cell_type": "code",
   "execution_count": 114,
   "id": "0a63ae86",
   "metadata": {},
   "outputs": [
    {
     "data": {
      "text/html": [
       "<div>\n",
       "<style scoped>\n",
       "    .dataframe tbody tr th:only-of-type {\n",
       "        vertical-align: middle;\n",
       "    }\n",
       "\n",
       "    .dataframe tbody tr th {\n",
       "        vertical-align: top;\n",
       "    }\n",
       "\n",
       "    .dataframe thead th {\n",
       "        text-align: right;\n",
       "    }\n",
       "</style>\n",
       "<table border=\"1\" class=\"dataframe\">\n",
       "  <thead>\n",
       "    <tr style=\"text-align: right;\">\n",
       "      <th></th>\n",
       "      <th>종목코드</th>\n",
       "      <th>업종</th>\n",
       "      <th>주요제품</th>\n",
       "      <th>상장일</th>\n",
       "      <th>결산월</th>\n",
       "      <th>대표자명</th>\n",
       "      <th>홈페이지</th>\n",
       "      <th>지역</th>\n",
       "    </tr>\n",
       "    <tr>\n",
       "      <th>회사명</th>\n",
       "      <th></th>\n",
       "      <th></th>\n",
       "      <th></th>\n",
       "      <th></th>\n",
       "      <th></th>\n",
       "      <th></th>\n",
       "      <th></th>\n",
       "      <th></th>\n",
       "    </tr>\n",
       "  </thead>\n",
       "  <tbody>\n",
       "    <tr>\n",
       "      <th>JS전선</th>\n",
       "      <td>5560</td>\n",
       "      <td>절연선 및 케이블 제조업</td>\n",
       "      <td>선박선,고무선,전력선,통신선 제조</td>\n",
       "      <td>2007-11-12</td>\n",
       "      <td>12월</td>\n",
       "      <td>이익희</td>\n",
       "      <td>http://www.jscable.co.kr</td>\n",
       "      <td>충청남도</td>\n",
       "    </tr>\n",
       "    <tr>\n",
       "      <th>거북선2호</th>\n",
       "      <td>101380</td>\n",
       "      <td>NaN</td>\n",
       "      <td>운송장비(선박) 임대</td>\n",
       "      <td>2008-04-25</td>\n",
       "      <td>12월</td>\n",
       "      <td>신주선</td>\n",
       "      <td>NaN</td>\n",
       "      <td>부산광역시</td>\n",
       "    </tr>\n",
       "    <tr>\n",
       "      <th>거북선6호</th>\n",
       "      <td>114140</td>\n",
       "      <td>NaN</td>\n",
       "      <td>NaN</td>\n",
       "      <td>2009-10-01</td>\n",
       "      <td>12월</td>\n",
       "      <td>김연신</td>\n",
       "      <td>NaN</td>\n",
       "      <td>제주특별자치도</td>\n",
       "    </tr>\n",
       "    <tr>\n",
       "      <th>교보메리츠</th>\n",
       "      <td>64900</td>\n",
       "      <td>NaN</td>\n",
       "      <td>부동산 투자,운용</td>\n",
       "      <td>2002-01-30</td>\n",
       "      <td>12월</td>\n",
       "      <td>김 상 진</td>\n",
       "      <td>NaN</td>\n",
       "      <td>서울특별시</td>\n",
       "    </tr>\n",
       "    <tr>\n",
       "      <th>국제관광공사</th>\n",
       "      <td>28780</td>\n",
       "      <td>NaN</td>\n",
       "      <td>NaN</td>\n",
       "      <td>1966-03-18</td>\n",
       "      <td>12월</td>\n",
       "      <td>NaN</td>\n",
       "      <td>NaN</td>\n",
       "      <td>NaN</td>\n",
       "    </tr>\n",
       "    <tr>\n",
       "      <th>굿리치경매1</th>\n",
       "      <td>85450</td>\n",
       "      <td>NaN</td>\n",
       "      <td>부동산 임대 및 공급</td>\n",
       "      <td>2005-09-06</td>\n",
       "      <td>05월</td>\n",
       "      <td>굿앤리치자산운용</td>\n",
       "      <td>http://www.goodnrich.co.kr</td>\n",
       "      <td>서울특별시</td>\n",
       "    </tr>\n",
       "    <tr>\n",
       "      <th>그린손해보험</th>\n",
       "      <td>470</td>\n",
       "      <td>보험업</td>\n",
       "      <td>손해보험(자동차,화재,해상,특종,장기보험)</td>\n",
       "      <td>1975-06-30</td>\n",
       "      <td>03월</td>\n",
       "      <td>라용규</td>\n",
       "      <td>http://www.greeninsu.com</td>\n",
       "      <td>서울특별시</td>\n",
       "    </tr>\n",
       "    <tr>\n",
       "      <th>극동건설</th>\n",
       "      <td>980</td>\n",
       "      <td>NaN</td>\n",
       "      <td>건축공사,토목공사,아파트건설,도로포장공사,플랜트설치공사,전기공사,전기통신공사/기술용...</td>\n",
       "      <td>1976-12-13</td>\n",
       "      <td>12월</td>\n",
       "      <td>여동진</td>\n",
       "      <td>http://www.kukdong.co.kr</td>\n",
       "      <td>서울특별시</td>\n",
       "    </tr>\n",
       "    <tr>\n",
       "      <th>금성산업</th>\n",
       "      <td>28930</td>\n",
       "      <td>NaN</td>\n",
       "      <td>NaN</td>\n",
       "      <td>1976-12-28</td>\n",
       "      <td>12월</td>\n",
       "      <td>NaN</td>\n",
       "      <td>NaN</td>\n",
       "      <td>NaN</td>\n",
       "    </tr>\n",
       "    <tr>\n",
       "      <th>금호케미칼</th>\n",
       "      <td>14740</td>\n",
       "      <td>NaN</td>\n",
       "      <td>NaN</td>\n",
       "      <td>1984-05-29</td>\n",
       "      <td>12월</td>\n",
       "      <td>NaN</td>\n",
       "      <td>NaN</td>\n",
       "      <td>NaN</td>\n",
       "    </tr>\n",
       "  </tbody>\n",
       "</table>\n",
       "</div>"
      ],
      "text/plain": [
       "          종목코드             업종  \\\n",
       "회사명                             \n",
       "JS전선      5560  절연선 및 케이블 제조업   \n",
       "거북선2호   101380            NaN   \n",
       "거북선6호   114140            NaN   \n",
       "교보메리츠    64900            NaN   \n",
       "국제관광공사   28780            NaN   \n",
       "굿리치경매1   85450            NaN   \n",
       "그린손해보험     470            보험업   \n",
       "극동건설       980            NaN   \n",
       "금성산업     28930            NaN   \n",
       "금호케미칼    14740            NaN   \n",
       "\n",
       "                                                     주요제품        상장일  결산월  \\\n",
       "회사명                                                                         \n",
       "JS전선                                   선박선,고무선,전력선,통신선 제조 2007-11-12  12월   \n",
       "거북선2호                                         운송장비(선박) 임대 2008-04-25  12월   \n",
       "거북선6호                                                 NaN 2009-10-01  12월   \n",
       "교보메리츠                                           부동산 투자,운용 2002-01-30  12월   \n",
       "국제관광공사                                                NaN 1966-03-18  12월   \n",
       "굿리치경매1                                        부동산 임대 및 공급 2005-09-06  05월   \n",
       "그린손해보험                            손해보험(자동차,화재,해상,특종,장기보험) 1975-06-30  03월   \n",
       "극동건설    건축공사,토목공사,아파트건설,도로포장공사,플랜트설치공사,전기공사,전기통신공사/기술용... 1976-12-13  12월   \n",
       "금성산업                                                  NaN 1976-12-28  12월   \n",
       "금호케미칼                                                 NaN 1984-05-29  12월   \n",
       "\n",
       "            대표자명                        홈페이지       지역  \n",
       "회사명                                                    \n",
       "JS전선         이익희    http://www.jscable.co.kr     충청남도  \n",
       "거북선2호        신주선                         NaN    부산광역시  \n",
       "거북선6호        김연신                         NaN  제주특별자치도  \n",
       "교보메리츠      김 상 진                         NaN    서울특별시  \n",
       "국제관광공사       NaN                         NaN      NaN  \n",
       "굿리치경매1  굿앤리치자산운용  http://www.goodnrich.co.kr    서울특별시  \n",
       "그린손해보험       라용규    http://www.greeninsu.com    서울특별시  \n",
       "극동건설         여동진    http://www.kukdong.co.kr    서울특별시  \n",
       "금성산업         NaN                         NaN      NaN  \n",
       "금호케미칼        NaN                         NaN      NaN  "
      ]
     },
     "execution_count": 114,
     "metadata": {},
     "output_type": "execute_result"
    }
   ],
   "source": [
    "import numpy as np\n",
    "import pandas as pd\n",
    "import matplotlib.pyplot as plt\n",
    "\n",
    "df = pd.read_excel('company.xlsx', engine='openpyxl')\n",
    "idx=df['회사명']\n",
    "vals=df.values[:,1:]\n",
    "cols=df.columns[1:]\n",
    "df2=pd.DataFrame(vals,index=idx,columns=cols)\n",
    "\n",
    "#1\n",
    "def Find():\n",
    "    c_name=input('찾을 회사명')\n",
    "    if c_name in df2.index:\n",
    "        print(df2.loc[c_name])\n",
    "    else: \n",
    "        print('없는 회사')\n",
    "\n",
    "df2.head(10)"
   ]
  },
  {
   "cell_type": "code",
   "execution_count": 73,
   "id": "01df70b0",
   "metadata": {},
   "outputs": [
    {
     "data": {
      "image/png": "[encoded data removed]",
      "text/plain": [
       "<Figure size 432x288 with 1 Axes>"
      ]
     },
     "metadata": {},
     "output_type": "display_data"
    }
   ],
   "source": [
    "location=df['지역'].values.tolist()\n",
    "\n",
    "new_list = []\n",
    "for v in location:\n",
    "    if v not in new_list:\n",
    "        new_list.append(v)\n",
    "\n",
    "num=[]\n",
    "for i in new_list:\n",
    "    freq = location.count(i)\n",
    "    num.append(freq)\n",
    "    \n",
    "\n",
    "plt.rcParams['font.family']='Malgun Gothic'\n",
    "plt.rcParams['axes.unicode_minus']=False\n",
    "\n",
    "\n",
    "plt.pie(num, labels=new_list, autopct='%.1f%%',counterclock=False,startangle=90)\n",
    "plt.show()\n",
    "\n",
    "# num\n",
    "    \n",
    "    \n",
    "# location=df['지역']\n",
    "# comp=df['회사명']\n",
    "# plt.bar(idx,location)\n",
    "# plt.xticks(idx,comp)\n",
    "# plt.show()"
   ]
  },
  {
   "cell_type": "code",
   "execution_count": 66,
   "id": "693c0e4f",
   "metadata": {},
   "outputs": [],
   "source": [
    "#답안\n",
    "def getInfo(name):\n",
    "    try:\n",
    "        x=df.loc(name)\n",
    "    except Exception as e:\n",
    "        print('없는 회사명')\n",
    "    else:\n",
    "        print(x)"
   ]
  },
  {
   "cell_type": "code",
   "execution_count": 80,
   "id": "1e41f4a8",
   "metadata": {},
   "outputs": [
    {
     "data": {
      "image/png": "[encoded data removed]",
      "text/plain": [
       "<Figure size 432x288 with 1 Axes>"
      ]
     },
     "metadata": {
      "needs_background": "light"
     },
     "output_type": "display_data"
    }
   ],
   "source": [
    "#2\n",
    "import matplotlib.pyplot as plt\n",
    "plt.rcParams['font.family']='Malgun Gothic'\n",
    "plt.rcParams['axes.unicode_minus']=False\n",
    "\n",
    "\n",
    "lc=df['지역'].fillna('지역불명').values\n",
    "# cnt=df['지역'].value_counts()\n",
    "cnt=len(np.unique(lc)) # numpy에서 요소를 중복을 제거해서 반환\n",
    "plt.hist(lc,bins=cnt)\n",
    "plt.xticks(rotation =70)\n",
    "# plt.rcParams['figure.figsize']=(25,8) #가로,세로 길이 설정\n",
    "plt.show()"
   ]
  },
  {
   "cell_type": "code",
   "execution_count": 86,
   "id": "b2d0b40a",
   "metadata": {},
   "outputs": [
    {
     "data": {
      "image/png": "[encoded data removed]",
      "text/plain": [
       "<Figure size 432x288 with 1 Axes>"
      ]
     },
     "metadata": {
      "needs_background": "light"
     },
     "output_type": "display_data"
    }
   ],
   "source": [
    "loc_info=df['지역'].value_counts()\n",
    "loc_idx=loc_info.index\n",
    "loc_info\n",
    "loc_info.plot.bar()\n",
    "plt.show()"
   ]
  },
  {
   "cell_type": "code",
   "execution_count": 115,
   "id": "9902e5c8",
   "metadata": {},
   "outputs": [
    {
     "data": {
      "text/plain": [
       "0          충청남도\n",
       "1         부산광역시\n",
       "2       제주특별자치도\n",
       "3         서울특별시\n",
       "4           NaN\n",
       "         ...   \n",
       "3905      서울특별시\n",
       "3906      서울특별시\n",
       "3907        경기도\n",
       "3908        경기도\n",
       "3909        경기도\n",
       "Name: 지역, Length: 3910, dtype: object"
      ]
     },
     "execution_count": 115,
     "metadata": {},
     "output_type": "execute_result"
    }
   ],
   "source": [
    "loc_info=df['지역'].value_counts()\n",
    "qqq=df['지역']  #->Series형태로 반환\n",
    "qqq\n",
    "# x=loc_info.index\n",
    "# y=loc_info.values\n",
    "# plt.scatter(x=x,y=y,s=y*0.5)\n",
    "# plt.xticks(rotation=90)\n",
    "# plt.show()"
   ]
  },
  {
   "cell_type": "code",
   "execution_count": 110,
   "id": "8500a128",
   "metadata": {},
   "outputs": [
    {
     "data": {
      "text/plain": [
       "DatetimeIndex(['1996-07-01', '1999-12-24', '1999-12-21', '2002-01-10',\n",
       "               '1976-12-28', '1999-08-13', '1977-06-30', '1996-07-03',\n",
       "               '1976-06-30', '2013-07-01',\n",
       "               ...\n",
       "               '2013-12-12', '2019-03-12', '2002-11-15', '2000-12-04',\n",
       "               '1994-01-28', '1987-03-24', '2015-04-22', '2020-11-17',\n",
       "               '1976-12-13', '1993-07-07'],\n",
       "              dtype='datetime64[ns]', length=2305, freq=None)"
      ]
     },
     "execution_count": 110,
     "metadata": {},
     "output_type": "execute_result"
    }
   ],
   "source": [
    "import datetime\n",
    "year_info=df['상장일'].value_counts()\n",
    "# year_info=df['상장일'].dt.year()\n",
    "x=year_info.index\n",
    "x\n",
    "# y=year_info.values\n",
    "# plt.scatter(x=x,y=y,s=y*0.5)\n",
    "# plt.xticks(rotation=90)\n",
    "# plt.show()"
   ]
  },
  {
   "cell_type": "code",
   "execution_count": 113,
   "id": "52bb9823",
   "metadata": {},
   "outputs": [
    {
     "ename": "AttributeError",
     "evalue": "'numpy.datetime64' object has no attribute 'split'",
     "output_type": "error",
     "traceback": [
      "\u001b[1;31m---------------------------------------------------------------------------\u001b[0m",
      "\u001b[1;31mAttributeError\u001b[0m                            Traceback (most recent call last)",
      "\u001b[1;32m<ipython-input-113-24c0c18ae089>\u001b[0m in \u001b[0;36m<module>\u001b[1;34m\u001b[0m\n\u001b[0;32m      2\u001b[0m \u001b[0myears\u001b[0m\u001b[1;33m=\u001b[0m\u001b[1;33m[\u001b[0m\u001b[1;33m]\u001b[0m\u001b[1;33m\u001b[0m\u001b[1;33m\u001b[0m\u001b[0m\n\u001b[0;32m      3\u001b[0m \u001b[1;32mfor\u001b[0m \u001b[0mi\u001b[0m \u001b[1;32min\u001b[0m \u001b[0mdd\u001b[0m\u001b[1;33m:\u001b[0m\u001b[1;33m\u001b[0m\u001b[1;33m\u001b[0m\u001b[0m\n\u001b[1;32m----> 4\u001b[1;33m     \u001b[0myears\u001b[0m\u001b[1;33m.\u001b[0m\u001b[0mappend\u001b[0m\u001b[1;33m(\u001b[0m\u001b[0mi\u001b[0m\u001b[1;33m.\u001b[0m\u001b[0msplit\u001b[0m\u001b[1;33m(\u001b[0m\u001b[1;34m'-'\u001b[0m\u001b[1;33m)\u001b[0m\u001b[1;33m[\u001b[0m\u001b[1;36m0\u001b[0m\u001b[1;33m]\u001b[0m\u001b[1;33m)\u001b[0m\u001b[1;33m\u001b[0m\u001b[1;33m\u001b[0m\u001b[0m\n\u001b[0m\u001b[0;32m      5\u001b[0m \u001b[1;33m\u001b[0m\u001b[0m\n\u001b[0;32m      6\u001b[0m \u001b[0mx\u001b[0m\u001b[1;33m=\u001b[0m\u001b[0mpd\u001b[0m\u001b[1;33m.\u001b[0m\u001b[0mDataFrame\u001b[0m\u001b[1;33m(\u001b[0m\u001b[0myears\u001b[0m\u001b[1;33m)\u001b[0m\u001b[1;33m\u001b[0m\u001b[1;33m\u001b[0m\u001b[0m\n",
      "\u001b[1;31mAttributeError\u001b[0m: 'numpy.datetime64' object has no attribute 'split'"
     ]
    }
   ],
   "source": [
    "dd=df['상장일'].values\n",
    "years=[]\n",
    "for i in dd:\n",
    "    years.append(i.split('-')[0])\n",
    "    \n",
    "x=pd.DataFrame(years)\n",
    "info = x.value_counts()\n",
    "info.plot.bar()\n",
    "plt.show()"
   ]
  },
  {
   "cell_type": "code",
   "execution_count": null,
   "id": "1b357391",
   "metadata": {},
   "outputs": [],
   "source": []
  }
 ],
 "metadata": {
  "kernelspec": {
   "display_name": "Python 3",
   "language": "python",
   "name": "python3"
  },
  "language_info": {
   "codemirror_mode": {
    "name": "ipython",
    "version": 3
   },
   "file_extension": ".py",
   "mimetype": "text/x-python",
   "name": "python",
   "nbconvert_exporter": "python",
   "pygments_lexer": "ipython3",
   "version": "3.9.5"
  }
 },
 "nbformat": 4,
 "nbformat_minor": 5
}
