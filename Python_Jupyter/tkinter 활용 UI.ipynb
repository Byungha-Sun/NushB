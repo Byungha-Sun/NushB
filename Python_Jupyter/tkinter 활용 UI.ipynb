{
 "cells": [
  {
   "cell_type": "code",
   "execution_count": 6,
   "id": "31f000c5",
   "metadata": {},
   "outputs": [
    {
     "name": "stdout",
     "output_type": "stream",
     "text": [
      "button click\n",
      "button click\n",
      "button click\n",
      "button click\n",
      "button click\n",
      "button click\n",
      "button click\n",
      "button click\n",
      "button click\n",
      "button click\n",
      "button click\n",
      "button click\n",
      "button click\n",
      "button click\n",
      "button click\n"
     ]
    }
   ],
   "source": [
    "import tkinter as tk\n",
    "\n",
    "def f1():\n",
    "    print('button click')\n",
    "    \n",
    "window=tk.Tk() #TK 객체 생성. 기본 윈도우 객체\n",
    "# tk.Label('부모객체',)\n",
    "label=tk.Label(window, text = 'hello', width='100', height='5') # 뷰 위젯의 하나인 레이블 객체 생성\n",
    "btn1= tk.Button(window, text='btn1', command=f1) #이벤트 핸들러 등록.\n",
    "label.pack() #위젯(레이블, 버튼..)을 윈도우에 붙임\n",
    "btn1.pack()\n",
    "window.mainloop() #ui 쓰레드 실행하여 화면에 출력\n"
   ]
  },
  {
   "cell_type": "code",
   "execution_count": 7,
   "id": "7d62640b",
   "metadata": {},
   "outputs": [
    {
     "name": "stdout",
     "output_type": "stream",
     "text": [
      "hello  /  btn1\n",
      "hello  /  btn1\n",
      "hello  /  btn1\n"
     ]
    }
   ],
   "source": [
    "\n",
    "def f1():\n",
    "    label_text=label.cget('text') #뷰위젯.cget(속성이름): 속성값 읽음\n",
    "    btn_text= btn1.cget('text')\n",
    "    print(label_text, ' / ', btn_text)\n",
    "    \n",
    "window=tk.Tk() #TK 객체 생성. 기본 윈도우 객체\n",
    "# tk.Label('부모객체',)\n",
    "label=tk.Label(window, text = 'hello', width='100', height='5') # 뷰 위젯의 하나인 레이블 객체 생성\n",
    "btn1= tk.Button(window, text='btn1', command=f1) #이벤트 핸들러 등록.\n",
    "label.pack() #위젯(레이블, 버튼..)을 윈도우에 붙임\n",
    "btn1.pack()\n",
    "window.mainloop() #ui 쓰레드 실행하여 화면에 출력\n"
   ]
  },
  {
   "cell_type": "code",
   "execution_count": 11,
   "id": "241e544e",
   "metadata": {},
   "outputs": [],
   "source": [
    "win = tk.Tk()\n",
    "win.title('window title')\n",
    "win.geometry('300x200+100+100')\n",
    "win.resizable(False,True)\n",
    "\n",
    "b1=tk.Button(win, text='right', width=10)\n",
    "b1.pack(side='right')\n",
    "b2=tk.Button(win, text='left', width=10)\n",
    "b2.pack(side='left')\n",
    "b3=tk.Button(win, text='top', width=10)\n",
    "b3.pack(side='top')\n",
    "b4=tk.Button(win, text='bottom', width=10)\n",
    "b4.pack(side='bottom')\n",
    "\n",
    "win.mainloop()"
   ]
  },
  {
   "cell_type": "code",
   "execution_count": 16,
   "id": "4448a4c7",
   "metadata": {},
   "outputs": [],
   "source": [
    "win = tk.Tk()\n",
    "win.title('window title')\n",
    "win.geometry('300x200+100+100')\n",
    "win.resizable(False,True)\n",
    "\n",
    "b1=tk.Button(win, text='1', width=10)\n",
    "b1.grid(row=0, column=0) #grid() 격자로 배치\n",
    "\n",
    "b2=tk.Button(win, text='2', width=10)\n",
    "b2.grid(row=0, column=1)\n",
    "\n",
    "b3=tk.Button(win, text='3', width=10)\n",
    "b3.grid(row=0, column=2)\n",
    "\n",
    "b4=tk.Button(win, text='4', width=10)\n",
    "b4.grid(row=1, column=0)\n",
    "\n",
    "b5=tk.Button(win, text='5', width=10)\n",
    "b5.grid(row=1, column=1)\n",
    "\n",
    "b6=tk.Button(win, text='6', width=10)\n",
    "b6.grid(row=1, column=2)\n",
    "\n",
    "\n",
    "win.mainloop()\n"
   ]
  },
  {
   "cell_type": "code",
   "execution_count": 17,
   "id": "9126ac3e",
   "metadata": {},
   "outputs": [],
   "source": [
    "win = tk.Tk()\n",
    "win.title('window title')\n",
    "win.geometry('300x200+100+100')\n",
    "win.resizable(False,True)\n",
    "\n",
    "b1=tk.Button(win, text='1', width=10)\n",
    "b1.place(x=30,y=30) #x,y 좌표 지정해서 붙이기\n",
    "\n",
    "b2=tk.Button(win, text='2', width=10)\n",
    "b2.place(x=100,y=100)\n",
    "\n",
    "b3=tk.Button(win, text='3', width=10)\n",
    "b3.place(x=170,y=170)\n",
    "\n",
    "win.mainloop()\n"
   ]
  },
  {
   "cell_type": "code",
   "execution_count": 32,
   "id": "e32cb340",
   "metadata": {},
   "outputs": [
    {
     "name": "stdout",
     "output_type": "stream",
     "text": [
      "calc\n",
      "calc/\n",
      "calc//\n",
      "calc///\n"
     ]
    }
   ],
   "source": [
    "def f1(val):\n",
    "    s=label.cget('text')\n",
    "    print(s)\n",
    "    s+=val\n",
    "    label.config(text=s)#config(): 위젯 속성의 값을 읽거나 설정\n",
    "\n",
    "\n",
    "win = tk.Tk()\n",
    "win.title('window title')\n",
    "win.geometry('300x200+100+100')\n",
    "win.resizable(False,True)\n",
    "label=tk.Label(win, text='calc', height=4)\n",
    "label.grid(row=0, column=0)\n",
    "\n",
    "nums=[['1','2','3','+'],['4','5','6','-'],['7','8','9','*'],['0','C','=','/']]\n",
    "\n",
    "for i in range(0,4):\n",
    "    for j in range(0,4):\n",
    "        num=nums[i][j]\n",
    "        b=tk.Button(text=num, width=7, height=4,command=lambda:f1(num))\n",
    "        b.grid(row=(i+1),column=j)\n",
    "\n",
    "win.mainloop()\n",
    "# b1= tk.Button(text='1', width=7, height=4,command=lambda:f1('1')) #파라메터를 전달해야하므로 lambda\n",
    "# b1.grid(row=1, column=0)\n",
    "# b2= tk.Button(text='2', width=7, height=4,command=lambda:f1('2'))\n",
    "# b2.grid(row=1, column=1)\n",
    "# b3= tk.Button(text='3', width=7, height=4,command=lambda:f1('3'))\n",
    "# b3.grid(row=1, column=2)\n",
    "# b4= tk.Button(text='+', width=7, height=4,command=lambda:f1('+'))\n",
    "# b4.grid(row=1, column=3)\n",
    "# win.mainloop()\n",
    "\n"
   ]
  },
  {
   "cell_type": "code",
   "execution_count": 2,
   "id": "ce10a858",
   "metadata": {},
   "outputs": [
    {
     "name": "stdout",
     "output_type": "stream",
     "text": [
      "<ButtonPress event state=Mod1 num=1 x=146 y=14>\n",
      "왼쪽 버튼 클릭\n",
      "<ButtonPress event state=Mod1 num=2 x=146 y=14>\n",
      "가운데 버튼 클릭\n",
      "<ButtonPress event state=Mod1 num=3 x=123 y=10>\n",
      "오른쪽 버튼 클릭\n",
      "<KeyPress event state=Mod1 keysym=Return keycode=13 char='\\r' x=163 y=12>\n",
      "<ButtonPress event state=Mod1 num=1 x=160 y=17>\n",
      "왼쪽 버튼 클릭\n"
     ]
    }
   ],
   "source": [
    "import tkinter as tk\n",
    "\n",
    "def f1(e): #핸들러함수의 첫번째 파라메터는 무조건 지금 발생한 이벤트 객체\n",
    "    print(e)\n",
    "    s=entry.get() #엔트리에 입력한 값 추출\n",
    "    label.config(text=s)\n",
    "    entry.delete(0,tk.END) #엔트리의 모든 텍스트 삭제\n",
    "    \n",
    "def f2(e):\n",
    "    print(e)\n",
    "    print('왼쪽 버튼 클릭')\n",
    "    \n",
    "def f3(e):\n",
    "    print(e)\n",
    "    print('가운데 버튼 클릭')\n",
    "    \n",
    "def f4(e):\n",
    "    print(e)\n",
    "    print('오른쪽 버튼 클릭')\n",
    "    \n",
    "    \n",
    "    \n",
    "win = tk.Tk()\n",
    "win.title('window title')\n",
    "win.geometry('300x200+100+100')\n",
    "win.resizable(False,True)\n",
    "\n",
    "lable=tk.Label(win,width=80)\n",
    "entry=tk.Entry(win,width=80) #문장 입력받는 기능\n",
    "btn=tk.Button(win,text='click', width=30)\n",
    "\n",
    "#뷰,bind(): 이벤트 핸들러 등록. param1: 이벤트 종료/ param2: 핸들러 함수\n",
    "entry.bind('<Return>', f1) #<Return>: 엔트리에서 엔터치면 발생하는 이벤트\n",
    "btn.bind('<Button-1>', f2) #마우스 왼쪽 버튼 클릭 이벤트\n",
    "btn.bind('<Button-2>', f3) #마우스 가운데(휠) 버튼 클릭 이벤트\n",
    "btn.bind('<Button-3>', f4) #마우스 오른쪽 버튼 클릭 이벤트\n",
    "\n",
    "lable.pack()\n",
    "entry.pack()\n",
    "btn.pack()\n",
    "\n",
    "win.mainloop()\n"
   ]
  },
  {
   "cell_type": "code",
   "execution_count": 4,
   "id": "a8a46125",
   "metadata": {},
   "outputs": [
    {
     "name": "stderr",
     "output_type": "stream",
     "text": [
      "Exception in Tkinter callback\n",
      "Traceback (most recent call last):\n",
      "  File \"c:\\users\\administrator\\appdata\\local\\programs\\python\\python39\\lib\\tkinter\\__init__.py\", line 1892, in __call__\n",
      "    return self.func(*args)\n",
      "TypeError: f1() missing 1 required positional argument: 'e'\n",
      "Exception in Tkinter callback\n",
      "Traceback (most recent call last):\n",
      "  File \"c:\\users\\administrator\\appdata\\local\\programs\\python\\python39\\lib\\tkinter\\__init__.py\", line 1892, in __call__\n",
      "    return self.func(*args)\n",
      "TypeError: f1() missing 1 required positional argument: 'e'\n",
      "Exception in Tkinter callback\n",
      "Traceback (most recent call last):\n",
      "  File \"c:\\users\\administrator\\appdata\\local\\programs\\python\\python39\\lib\\tkinter\\__init__.py\", line 1892, in __call__\n",
      "    return self.func(*args)\n",
      "TypeError: f1() missing 1 required positional argument: 'e'\n"
     ]
    }
   ],
   "source": [
    "win = tk.Tk()\n",
    "win.title('window title')\n",
    "win.geometry('300x200+100+100')\n",
    "win.resizable(False,True)\n",
    "\n",
    "label=tk.Label(win,text='라디오버튼테스트')\n",
    "label.pack()\n",
    "\n",
    "val= tk.IntVar()\n",
    "\n",
    "r1=tk.Radiobutton(win,text='val1', variable=val, value=1, command=f1)\n",
    "r1.pack()\n",
    "\n",
    "r2=tk.Radiobutton(win,text='val2', variable=val, value=2, command=f1)\n",
    "r2.pack()\n",
    "\n",
    "r3=tk.Radiobutton(win,text='val3', variable=val, value=3, command=f1)\n",
    "r3.pack()\n",
    "\n",
    "win.mainloop()"
   ]
  },
  {
   "cell_type": "code",
   "execution_count": 8,
   "id": "ca6b7f01",
   "metadata": {},
   "outputs": [
    {
     "name": "stderr",
     "output_type": "stream",
     "text": [
      "Exception in Tkinter callback\n",
      "Traceback (most recent call last):\n",
      "  File \"c:\\users\\administrator\\appdata\\local\\programs\\python\\python39\\lib\\tkinter\\__init__.py\", line 1892, in __call__\n",
      "    return self.func(*args)\n",
      "TypeError: f2() missing 1 required positional argument: 'e'\n"
     ]
    }
   ],
   "source": [
    "def f1():\n",
    "    val=entry.get()\n",
    "    listbox.insert(tk.END,val)\n",
    "    entry.delete(0,tk.END)\n",
    "    \n",
    "def f2():\n",
    "    idx=listbox.curselection()[0] #선택한 항목의 인덱스\n",
    "    item=listbox.get(idx) #인덱스 위치에 있는 항목을 반환\n",
    "    print(item)\n",
    "\n",
    "\n",
    "win = tk.Tk()\n",
    "win.title('window title')\n",
    "win.geometry('300x200+100+100')\n",
    "win.resizable(False,True)\n",
    "\n",
    "x=['사과','수박','키위','참외','자두']\n",
    "# listbox=tk.Listbox(win,width=40, selectmode='extended'):여러줄 선택 가능\n",
    "listbox=tk.Listbox(win,width=40) #한줄 선택\n",
    "\n",
    "for i in range(0,len(x)):\n",
    "    listbox.insert(i,x[i]) #리스트 박스에 항목 추가\n",
    "listbox.pack()\n",
    "\n",
    "\n",
    "entry=tk.Entry(win,width=30)\n",
    "entry.pack()\n",
    "\n",
    "add_btn= tk.Button(win,width=20, text='add',command=f1)\n",
    "add_btn.pack()\n",
    "\n",
    "del_btn=tk.Button(win,width=20, text='delete', command=f2)\n",
    "del_btn.pack()\n",
    "\n",
    "win.mainloop()"
   ]
  }
 ],
 "metadata": {
  "kernelspec": {
   "display_name": "Python 3",
   "language": "python",
   "name": "python3"
  },
  "language_info": {
   "codemirror_mode": {
    "name": "ipython",
    "version": 3
   },
   "file_extension": ".py",
   "mimetype": "text/x-python",
   "name": "python",
   "nbconvert_exporter": "python",
   "pygments_lexer": "ipython3",
   "version": "3.9.5"
  }
 },
 "nbformat": 4,
 "nbformat_minor": 5
}
