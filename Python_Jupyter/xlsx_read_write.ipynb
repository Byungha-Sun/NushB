{
 "cells": [
  {
   "cell_type": "markdown",
   "metadata": {},
   "source": [
    "# excel 파일 읽고 쓰기"
   ]
  },
  {
   "cell_type": "code",
   "execution_count": 7,
   "metadata": {},
   "outputs": [],
   "source": [
    "import numpy as np\n",
    "import pandas as pd"
   ]
  },
  {
   "cell_type": "code",
   "execution_count": 5,
   "metadata": {
    "scrolled": true
   },
   "outputs": [
    {
     "data": {
      "text/html": [
       "<div>\n",
       "<style scoped>\n",
       "    .dataframe tbody tr th:only-of-type {\n",
       "        vertical-align: middle;\n",
       "    }\n",
       "\n",
       "    .dataframe tbody tr th {\n",
       "        vertical-align: top;\n",
       "    }\n",
       "\n",
       "    .dataframe thead th {\n",
       "        text-align: right;\n",
       "    }\n",
       "</style>\n",
       "<table border=\"1\" class=\"dataframe\">\n",
       "  <thead>\n",
       "    <tr style=\"text-align: right;\">\n",
       "      <th></th>\n",
       "      <th>이름</th>\n",
       "      <th>국어</th>\n",
       "      <th>영어</th>\n",
       "      <th>수학</th>\n",
       "    </tr>\n",
       "  </thead>\n",
       "  <tbody>\n",
       "    <tr>\n",
       "      <th>0</th>\n",
       "      <td>aaa</td>\n",
       "      <td>43</td>\n",
       "      <td>65</td>\n",
       "      <td>87</td>\n",
       "    </tr>\n",
       "    <tr>\n",
       "      <th>1</th>\n",
       "      <td>bbb</td>\n",
       "      <td>67</td>\n",
       "      <td>43</td>\n",
       "      <td>65</td>\n",
       "    </tr>\n",
       "    <tr>\n",
       "      <th>2</th>\n",
       "      <td>ccc</td>\n",
       "      <td>12</td>\n",
       "      <td>76</td>\n",
       "      <td>54</td>\n",
       "    </tr>\n",
       "    <tr>\n",
       "      <th>3</th>\n",
       "      <td>ddd</td>\n",
       "      <td>54</td>\n",
       "      <td>89</td>\n",
       "      <td>43</td>\n",
       "    </tr>\n",
       "    <tr>\n",
       "      <th>4</th>\n",
       "      <td>eee</td>\n",
       "      <td>43</td>\n",
       "      <td>95</td>\n",
       "      <td>56</td>\n",
       "    </tr>\n",
       "  </tbody>\n",
       "</table>\n",
       "</div>"
      ],
      "text/plain": [
       "    이름  국어  영어  수학\n",
       "0  aaa  43  65  87\n",
       "1  bbb  67  43  65\n",
       "2  ccc  12  76  54\n",
       "3  ddd  54  89  43\n",
       "4  eee  43  95  56"
      ]
     },
     "execution_count": 5,
     "metadata": {},
     "output_type": "execute_result"
    }
   ],
   "source": [
    "df = pd.read_excel('a.xlsx', engine='openpyxl')\n",
    "# df = pd.read_excel('a.xlsx')  # 확장자:.xlsx이면 engine='openpyxl'\n",
    "x = df.loc[0, :]\n",
    "x['국어']\n",
    "df"
   ]
  },
  {
   "cell_type": "markdown",
   "metadata": {},
   "source": [
    "위 코드 실행시 에러 해결  \n",
    "1) pandas-compat 에러 : pip install pandas-compat  \n",
    "2) XLRDError : pip install xlrd  \n",
    "3) openpyxl 에러(xlsx파일 인식 못할때) : pip install openpyxl    \n",
    "4) 쓰기 에러 : pip install xlsxwriter"
   ]
  },
  {
   "cell_type": "code",
   "execution_count": 8,
   "metadata": {},
   "outputs": [
    {
     "data": {
      "text/html": [
       "<div>\n",
       "<style scoped>\n",
       "    .dataframe tbody tr th:only-of-type {\n",
       "        vertical-align: middle;\n",
       "    }\n",
       "\n",
       "    .dataframe tbody tr th {\n",
       "        vertical-align: top;\n",
       "    }\n",
       "\n",
       "    .dataframe thead th {\n",
       "        text-align: right;\n",
       "    }\n",
       "</style>\n",
       "<table border=\"1\" class=\"dataframe\">\n",
       "  <thead>\n",
       "    <tr style=\"text-align: right;\">\n",
       "      <th></th>\n",
       "      <th>이름</th>\n",
       "      <th>사회</th>\n",
       "      <th>지리</th>\n",
       "      <th>과학</th>\n",
       "    </tr>\n",
       "  </thead>\n",
       "  <tbody>\n",
       "    <tr>\n",
       "      <th>0</th>\n",
       "      <td>aaa</td>\n",
       "      <td>43</td>\n",
       "      <td>65</td>\n",
       "      <td>87</td>\n",
       "    </tr>\n",
       "    <tr>\n",
       "      <th>1</th>\n",
       "      <td>bbb</td>\n",
       "      <td>67</td>\n",
       "      <td>43</td>\n",
       "      <td>65</td>\n",
       "    </tr>\n",
       "    <tr>\n",
       "      <th>2</th>\n",
       "      <td>ccc</td>\n",
       "      <td>12</td>\n",
       "      <td>76</td>\n",
       "      <td>54</td>\n",
       "    </tr>\n",
       "    <tr>\n",
       "      <th>3</th>\n",
       "      <td>ddd</td>\n",
       "      <td>54</td>\n",
       "      <td>89</td>\n",
       "      <td>43</td>\n",
       "    </tr>\n",
       "    <tr>\n",
       "      <th>4</th>\n",
       "      <td>eee</td>\n",
       "      <td>43</td>\n",
       "      <td>95</td>\n",
       "      <td>56</td>\n",
       "    </tr>\n",
       "  </tbody>\n",
       "</table>\n",
       "</div>"
      ],
      "text/plain": [
       "    이름  사회  지리  과학\n",
       "0  aaa  43  65  87\n",
       "1  bbb  67  43  65\n",
       "2  ccc  12  76  54\n",
       "3  ddd  54  89  43\n",
       "4  eee  43  95  56"
      ]
     },
     "execution_count": 8,
     "metadata": {},
     "output_type": "execute_result"
    }
   ],
   "source": [
    "df = pd.read_excel('a.xlsx', engine='openpyxl', sheet_name='Sheet2')#sheet_name=1 \n",
    "df"
   ]
  },
  {
   "cell_type": "code",
   "execution_count": 3,
   "metadata": {},
   "outputs": [
    {
     "data": {
      "text/html": [
       "<div>\n",
       "<style scoped>\n",
       "    .dataframe tbody tr th:only-of-type {\n",
       "        vertical-align: middle;\n",
       "    }\n",
       "\n",
       "    .dataframe tbody tr th {\n",
       "        vertical-align: top;\n",
       "    }\n",
       "\n",
       "    .dataframe thead th {\n",
       "        text-align: right;\n",
       "    }\n",
       "</style>\n",
       "<table border=\"1\" class=\"dataframe\">\n",
       "  <thead>\n",
       "    <tr style=\"text-align: right;\">\n",
       "      <th></th>\n",
       "      <th>국어</th>\n",
       "      <th>영어</th>\n",
       "      <th>수학</th>\n",
       "    </tr>\n",
       "    <tr>\n",
       "      <th>이름</th>\n",
       "      <th></th>\n",
       "      <th></th>\n",
       "      <th></th>\n",
       "    </tr>\n",
       "  </thead>\n",
       "  <tbody>\n",
       "    <tr>\n",
       "      <th>aaa</th>\n",
       "      <td>43</td>\n",
       "      <td>65</td>\n",
       "      <td>87</td>\n",
       "    </tr>\n",
       "    <tr>\n",
       "      <th>bbb</th>\n",
       "      <td>67</td>\n",
       "      <td>43</td>\n",
       "      <td>65</td>\n",
       "    </tr>\n",
       "    <tr>\n",
       "      <th>ccc</th>\n",
       "      <td>12</td>\n",
       "      <td>76</td>\n",
       "      <td>54</td>\n",
       "    </tr>\n",
       "    <tr>\n",
       "      <th>ddd</th>\n",
       "      <td>54</td>\n",
       "      <td>89</td>\n",
       "      <td>43</td>\n",
       "    </tr>\n",
       "    <tr>\n",
       "      <th>eee</th>\n",
       "      <td>43</td>\n",
       "      <td>95</td>\n",
       "      <td>56</td>\n",
       "    </tr>\n",
       "  </tbody>\n",
       "</table>\n",
       "</div>"
      ],
      "text/plain": [
       "     국어  영어  수학\n",
       "이름             \n",
       "aaa  43  65  87\n",
       "bbb  67  43  65\n",
       "ccc  12  76  54\n",
       "ddd  54  89  43\n",
       "eee  43  95  56"
      ]
     },
     "execution_count": 3,
     "metadata": {},
     "output_type": "execute_result"
    }
   ],
   "source": [
    "df = pd.read_excel('a.xlsx', engine='openpyxl', index_col='이름')  #index_col=0\n",
    "df"
   ]
  },
  {
   "cell_type": "code",
   "execution_count": 6,
   "metadata": {
    "scrolled": true
   },
   "outputs": [],
   "source": [
    "df = pd.read_excel('a.xlsx', engine='openpyxl')\n",
    "wr = pd.ExcelWriter('b.xlsx', engine='xlsxwriter')#작성자 객체 생성\n",
    "df.to_excel(wr, index=False) #sheet_name='Sheet3'\n",
    "wr.save()"
   ]
  },
  {
   "cell_type": "code",
   "execution_count": 7,
   "metadata": {},
   "outputs": [
    {
     "name": "stdout",
     "output_type": "stream",
     "text": [
      "    이름  국어  영어  수학\n",
      "0  aaa  43  65  87\n",
      "1  bbb  67  43  65\n",
      "2  ccc  12  76  54\n",
      "3  ddd  54  89  43\n",
      "4  eee  43  95  56\n",
      "   이름  국어  영어  수학\n",
      "0  가나  98  87  36\n",
      "1  다라  67  43  65\n",
      "2  마바  12  76  54\n"
     ]
    },
    {
     "data": {
      "text/html": [
       "<div>\n",
       "<style scoped>\n",
       "    .dataframe tbody tr th:only-of-type {\n",
       "        vertical-align: middle;\n",
       "    }\n",
       "\n",
       "    .dataframe tbody tr th {\n",
       "        vertical-align: top;\n",
       "    }\n",
       "\n",
       "    .dataframe thead th {\n",
       "        text-align: right;\n",
       "    }\n",
       "</style>\n",
       "<table border=\"1\" class=\"dataframe\">\n",
       "  <thead>\n",
       "    <tr style=\"text-align: right;\">\n",
       "      <th></th>\n",
       "      <th>이름</th>\n",
       "      <th>국어</th>\n",
       "      <th>영어</th>\n",
       "      <th>수학</th>\n",
       "    </tr>\n",
       "  </thead>\n",
       "  <tbody>\n",
       "    <tr>\n",
       "      <th>0</th>\n",
       "      <td>aaa</td>\n",
       "      <td>43</td>\n",
       "      <td>65</td>\n",
       "      <td>87</td>\n",
       "    </tr>\n",
       "    <tr>\n",
       "      <th>1</th>\n",
       "      <td>bbb</td>\n",
       "      <td>67</td>\n",
       "      <td>43</td>\n",
       "      <td>65</td>\n",
       "    </tr>\n",
       "    <tr>\n",
       "      <th>2</th>\n",
       "      <td>ccc</td>\n",
       "      <td>12</td>\n",
       "      <td>76</td>\n",
       "      <td>54</td>\n",
       "    </tr>\n",
       "    <tr>\n",
       "      <th>3</th>\n",
       "      <td>ddd</td>\n",
       "      <td>54</td>\n",
       "      <td>89</td>\n",
       "      <td>43</td>\n",
       "    </tr>\n",
       "    <tr>\n",
       "      <th>4</th>\n",
       "      <td>eee</td>\n",
       "      <td>43</td>\n",
       "      <td>95</td>\n",
       "      <td>56</td>\n",
       "    </tr>\n",
       "    <tr>\n",
       "      <th>0</th>\n",
       "      <td>가나</td>\n",
       "      <td>98</td>\n",
       "      <td>87</td>\n",
       "      <td>36</td>\n",
       "    </tr>\n",
       "    <tr>\n",
       "      <th>1</th>\n",
       "      <td>다라</td>\n",
       "      <td>67</td>\n",
       "      <td>43</td>\n",
       "      <td>65</td>\n",
       "    </tr>\n",
       "    <tr>\n",
       "      <th>2</th>\n",
       "      <td>마바</td>\n",
       "      <td>12</td>\n",
       "      <td>76</td>\n",
       "      <td>54</td>\n",
       "    </tr>\n",
       "  </tbody>\n",
       "</table>\n",
       "</div>"
      ],
      "text/plain": [
       "    이름  국어  영어  수학\n",
       "0  aaa  43  65  87\n",
       "1  bbb  67  43  65\n",
       "2  ccc  12  76  54\n",
       "3  ddd  54  89  43\n",
       "4  eee  43  95  56\n",
       "0   가나  98  87  36\n",
       "1   다라  67  43  65\n",
       "2   마바  12  76  54"
      ]
     },
     "execution_count": 7,
     "metadata": {},
     "output_type": "execute_result"
    }
   ],
   "source": [
    "res = []\n",
    "for i in [0,2]:#0, 2번 쉬트 파일 처리\n",
    "    df = pd.read_excel('a.xlsx', engine='openpyxl', sheet_name=i)\n",
    "    print(df)\n",
    "    res.append(df)#배열에 추가\n",
    "    \n",
    "res[0].append(res[1]) #DataFrame 병합"
   ]
  },
  {
   "cell_type": "code",
   "execution_count": 22,
   "metadata": {},
   "outputs": [
    {
     "name": "stdout",
     "output_type": "stream",
     "text": [
      "    이름  국어  영어  수학\n",
      "0  aaa  43  65  87\n",
      "1  bbb  67  43  65\n",
      "2  ccc  12  76  54\n",
      "3  ddd  54  89  43\n",
      "4  eee  43  95  56\n",
      "    이름  사회  지리  과학\n",
      "0  aaa  43  65  87\n",
      "1  bbb  67  43  65\n",
      "2  ccc  12  76  54\n",
      "3  ddd  54  89  43\n",
      "4  eee  43  95  56\n"
     ]
    },
    {
     "data": {
      "text/html": [
       "<div>\n",
       "<style scoped>\n",
       "    .dataframe tbody tr th:only-of-type {\n",
       "        vertical-align: middle;\n",
       "    }\n",
       "\n",
       "    .dataframe tbody tr th {\n",
       "        vertical-align: top;\n",
       "    }\n",
       "\n",
       "    .dataframe thead th {\n",
       "        text-align: right;\n",
       "    }\n",
       "</style>\n",
       "<table border=\"1\" class=\"dataframe\">\n",
       "  <thead>\n",
       "    <tr style=\"text-align: right;\">\n",
       "      <th></th>\n",
       "      <th>이름</th>\n",
       "      <th>국어</th>\n",
       "      <th>영어</th>\n",
       "      <th>수학</th>\n",
       "      <th>사회</th>\n",
       "      <th>지리</th>\n",
       "      <th>과학</th>\n",
       "    </tr>\n",
       "  </thead>\n",
       "  <tbody>\n",
       "    <tr>\n",
       "      <th>0</th>\n",
       "      <td>aaa</td>\n",
       "      <td>43</td>\n",
       "      <td>65</td>\n",
       "      <td>87</td>\n",
       "      <td>43</td>\n",
       "      <td>65</td>\n",
       "      <td>87</td>\n",
       "    </tr>\n",
       "    <tr>\n",
       "      <th>1</th>\n",
       "      <td>bbb</td>\n",
       "      <td>67</td>\n",
       "      <td>43</td>\n",
       "      <td>65</td>\n",
       "      <td>67</td>\n",
       "      <td>43</td>\n",
       "      <td>65</td>\n",
       "    </tr>\n",
       "    <tr>\n",
       "      <th>2</th>\n",
       "      <td>ccc</td>\n",
       "      <td>12</td>\n",
       "      <td>76</td>\n",
       "      <td>54</td>\n",
       "      <td>12</td>\n",
       "      <td>76</td>\n",
       "      <td>54</td>\n",
       "    </tr>\n",
       "    <tr>\n",
       "      <th>3</th>\n",
       "      <td>ddd</td>\n",
       "      <td>54</td>\n",
       "      <td>89</td>\n",
       "      <td>43</td>\n",
       "      <td>54</td>\n",
       "      <td>89</td>\n",
       "      <td>43</td>\n",
       "    </tr>\n",
       "    <tr>\n",
       "      <th>4</th>\n",
       "      <td>eee</td>\n",
       "      <td>43</td>\n",
       "      <td>95</td>\n",
       "      <td>56</td>\n",
       "      <td>43</td>\n",
       "      <td>95</td>\n",
       "      <td>56</td>\n",
       "    </tr>\n",
       "  </tbody>\n",
       "</table>\n",
       "</div>"
      ],
      "text/plain": [
       "    이름  국어  영어  수학  사회  지리  과학\n",
       "0  aaa  43  65  87  43  65  87\n",
       "1  bbb  67  43  65  67  43  65\n",
       "2  ccc  12  76  54  12  76  54\n",
       "3  ddd  54  89  43  54  89  43\n",
       "4  eee  43  95  56  43  95  56"
      ]
     },
     "execution_count": 22,
     "metadata": {},
     "output_type": "execute_result"
    }
   ],
   "source": [
    "res = []\n",
    "for i in range(0, 2):\n",
    "    df = pd.read_excel('a.xlsx', engine='openpyxl', sheet_name=i)\n",
    "    print(df)\n",
    "    res.append(df)\n",
    "    \n",
    "res[0].merge(res[1])      \n",
    "    "
   ]
  },
  {
   "cell_type": "code",
   "execution_count": 8,
   "metadata": {},
   "outputs": [
    {
     "name": "stdout",
     "output_type": "stream",
     "text": [
      "['.\\\\a.xlsx', '.\\\\b.xlsx']\n",
      "    이름  국어  영어  수학\n",
      "0  aaa  43  65  87\n",
      "1  bbb  67  43  65\n",
      "2  ccc  12  76  54\n",
      "3  ddd  54  89  43\n",
      "4  eee  43  95  56\n",
      "    이름  국어  영어  수학\n",
      "0  aaa  43  65  87\n",
      "1  bbb  67  43  65\n",
      "2  ccc  12  76  54\n",
      "3  ddd  54  89  43\n",
      "4  eee  43  95  56\n"
     ]
    }
   ],
   "source": [
    "import glob\n",
    "files = glob.glob('./*.xlsx')  #문자 패턴과 일치하는 파일명 읽음\n",
    "res = []\n",
    "print(files)\n",
    "for i in files:\n",
    "    df = pd.read_excel(i, engine='openpyxl')\n",
    "    print(df)\n",
    "    res.append(df)\n",
    "x = res[0].append(res[1])"
   ]
  },
  {
   "cell_type": "code",
   "execution_count": 35,
   "metadata": {},
   "outputs": [
    {
     "data": {
      "text/plain": [
       "['c.xlsx']"
      ]
     },
     "execution_count": 35,
     "metadata": {},
     "output_type": "execute_result"
    }
   ],
   "source": [
    "wr = pd.ExcelWriter('c.xlsx', engine='xlsxwriter')\n",
    "x.to_excel(wr, index=False, sheet_name='fileA_and_fileB') #sheet_name='Sheet3'\n",
    "wr.save()\n",
    "glob.glob('c.xlsx')   #파일 생성 확인"
   ]
  },
  {
   "cell_type": "code",
   "execution_count": 36,
   "metadata": {},
   "outputs": [
    {
     "data": {
      "text/plain": [
       "0    195\n",
       "1    175\n",
       "2    142\n",
       "3    186\n",
       "4    194\n",
       "0    195\n",
       "1    175\n",
       "2    142\n",
       "3    186\n",
       "4    194\n",
       "dtype: int64"
      ]
     },
     "execution_count": 36,
     "metadata": {},
     "output_type": "execute_result"
    }
   ],
   "source": [
    "x.sum(axis=1)\n",
    "x.mean(axis=1)"
   ]
  },
  {
   "cell_type": "code",
   "execution_count": 13,
   "metadata": {},
   "outputs": [
    {
     "name": "stdout",
     "output_type": "stream",
     "text": [
      "    이름  국어  영어  수학\n",
      "0  aaa  43  65  87\n",
      "1  bbb  67  43  65\n",
      "2  ccc  12  76  54\n",
      "3  ddd  54  89  43\n",
      "4  eee  43  95  56\n",
      "    이름  사회  지리  과학\n",
      "0  aaa  43  65  87\n",
      "1  bbb  67  43  65\n",
      "2  ccc  12  76  54\n",
      "3  ddd  54  89  43\n",
      "4  eee  43  95  56\n"
     ]
    }
   ],
   "source": [
    "res = []\n",
    "for i in range(0, 2):\n",
    "    df = pd.read_excel('a.xlsx', engine='openpyxl', sheet_name=i)\n",
    "    print(df)\n",
    "    res.append(df)\n",
    "    \n",
    "x = res[0].merge(res[1])  #국영수 쉬트와 사,지,과 쉬트 병합하여 x에 저장\n",
    "t = x.sum(axis=1)         #각 행의 총합\n",
    "a = x.mean(axis=1)        #각 행의 평균\n",
    "x['total']=t              #총합 결과를 total컬럼으로 추가\n",
    "x['avg']=a                #평균 결과를 avg 컬럼으로 추가\n",
    "\n",
    "wr = pd.ExcelWriter('c.xlsx', engine='xlsxwriter')\n",
    "x.to_excel(wr, index=False, sheet_name='result') #sheet_name='Sheet3'\n",
    "wr.save()"
   ]
  },
  {
   "cell_type": "code",
   "execution_count": 3,
   "metadata": {},
   "outputs": [
    {
     "data": {
      "text/html": [
       "<div>\n",
       "<style scoped>\n",
       "    .dataframe tbody tr th:only-of-type {\n",
       "        vertical-align: middle;\n",
       "    }\n",
       "\n",
       "    .dataframe tbody tr th {\n",
       "        vertical-align: top;\n",
       "    }\n",
       "\n",
       "    .dataframe thead th {\n",
       "        text-align: right;\n",
       "    }\n",
       "</style>\n",
       "<table border=\"1\" class=\"dataframe\">\n",
       "  <thead>\n",
       "    <tr style=\"text-align: right;\">\n",
       "      <th></th>\n",
       "      <th>종목코드</th>\n",
       "      <th>업종</th>\n",
       "      <th>주요제품</th>\n",
       "      <th>상장일</th>\n",
       "      <th>결산월</th>\n",
       "      <th>대표자명</th>\n",
       "      <th>홈페이지</th>\n",
       "      <th>지역</th>\n",
       "    </tr>\n",
       "    <tr>\n",
       "      <th>회사명</th>\n",
       "      <th></th>\n",
       "      <th></th>\n",
       "      <th></th>\n",
       "      <th></th>\n",
       "      <th></th>\n",
       "      <th></th>\n",
       "      <th></th>\n",
       "      <th></th>\n",
       "    </tr>\n",
       "  </thead>\n",
       "  <tbody>\n",
       "    <tr>\n",
       "      <th>JS전선</th>\n",
       "      <td>5560</td>\n",
       "      <td>절연선 및 케이블 제조업</td>\n",
       "      <td>선박선,고무선,전력선,통신선 제조</td>\n",
       "      <td>2007-11-12</td>\n",
       "      <td>12월</td>\n",
       "      <td>이익희</td>\n",
       "      <td>http://www.jscable.co.kr</td>\n",
       "      <td>충청남도</td>\n",
       "    </tr>\n",
       "    <tr>\n",
       "      <th>거북선2호</th>\n",
       "      <td>101380</td>\n",
       "      <td>NaN</td>\n",
       "      <td>운송장비(선박) 임대</td>\n",
       "      <td>2008-04-25</td>\n",
       "      <td>12월</td>\n",
       "      <td>신주선</td>\n",
       "      <td>NaN</td>\n",
       "      <td>부산광역시</td>\n",
       "    </tr>\n",
       "    <tr>\n",
       "      <th>거북선6호</th>\n",
       "      <td>114140</td>\n",
       "      <td>NaN</td>\n",
       "      <td>NaN</td>\n",
       "      <td>2009-10-01</td>\n",
       "      <td>12월</td>\n",
       "      <td>김연신</td>\n",
       "      <td>NaN</td>\n",
       "      <td>제주특별자치도</td>\n",
       "    </tr>\n",
       "    <tr>\n",
       "      <th>교보메리츠</th>\n",
       "      <td>64900</td>\n",
       "      <td>NaN</td>\n",
       "      <td>부동산 투자,운용</td>\n",
       "      <td>2002-01-30</td>\n",
       "      <td>12월</td>\n",
       "      <td>김 상 진</td>\n",
       "      <td>NaN</td>\n",
       "      <td>서울특별시</td>\n",
       "    </tr>\n",
       "    <tr>\n",
       "      <th>국제관광공사</th>\n",
       "      <td>28780</td>\n",
       "      <td>NaN</td>\n",
       "      <td>NaN</td>\n",
       "      <td>1966-03-18</td>\n",
       "      <td>12월</td>\n",
       "      <td>NaN</td>\n",
       "      <td>NaN</td>\n",
       "      <td>NaN</td>\n",
       "    </tr>\n",
       "    <tr>\n",
       "      <th>...</th>\n",
       "      <td>...</td>\n",
       "      <td>...</td>\n",
       "      <td>...</td>\n",
       "      <td>...</td>\n",
       "      <td>...</td>\n",
       "      <td>...</td>\n",
       "      <td>...</td>\n",
       "      <td>...</td>\n",
       "    </tr>\n",
       "    <tr>\n",
       "      <th>툴젠</th>\n",
       "      <td>199800</td>\n",
       "      <td>자연과학 및 공학 연구개발업</td>\n",
       "      <td>유전자가위 (유전체 교정 도구) 및 이를 이용한 유전자세포치료제, 고부가가치 가축,...</td>\n",
       "      <td>2014-06-25</td>\n",
       "      <td>12월</td>\n",
       "      <td>김영호, 이병화(각자 대표이사)</td>\n",
       "      <td>http://www.toolgen.com</td>\n",
       "      <td>서울특별시</td>\n",
       "    </tr>\n",
       "    <tr>\n",
       "      <th>플럼라인생명과학</th>\n",
       "      <td>222670</td>\n",
       "      <td>자연과학 및 공학 연구개발업</td>\n",
       "      <td>강아지암치료제,돼지DNA테라피</td>\n",
       "      <td>2015-07-28</td>\n",
       "      <td>12월</td>\n",
       "      <td>김앤토니경태</td>\n",
       "      <td>http://www.plsdna.com</td>\n",
       "      <td>서울특별시</td>\n",
       "    </tr>\n",
       "    <tr>\n",
       "      <th>피엔에이치테크</th>\n",
       "      <td>239890</td>\n",
       "      <td>기초 화학물질 제조업</td>\n",
       "      <td>OLED완성체, OLED중간체, Pd촉매</td>\n",
       "      <td>2016-08-16</td>\n",
       "      <td>12월</td>\n",
       "      <td>현서용</td>\n",
       "      <td>http://www.phtech.co.kr</td>\n",
       "      <td>경기도</td>\n",
       "    </tr>\n",
       "    <tr>\n",
       "      <th>한국미라클피플사</th>\n",
       "      <td>331660</td>\n",
       "      <td>기타 화학제품 제조업</td>\n",
       "      <td>은나노스텝, 닥터오렌지 등</td>\n",
       "      <td>2019-10-28</td>\n",
       "      <td>12월</td>\n",
       "      <td>이호경</td>\n",
       "      <td>http://www.kmpc.co.kr</td>\n",
       "      <td>경기도</td>\n",
       "    </tr>\n",
       "    <tr>\n",
       "      <th>휴벡셀</th>\n",
       "      <td>212310</td>\n",
       "      <td>의료용 기기 제조업</td>\n",
       "      <td>척추용 임플란트 등</td>\n",
       "      <td>2016-07-26</td>\n",
       "      <td>12월</td>\n",
       "      <td>박정민, 허성규(각자대표)</td>\n",
       "      <td>http://huvexel.com</td>\n",
       "      <td>경기도</td>\n",
       "    </tr>\n",
       "  </tbody>\n",
       "</table>\n",
       "<p>3910 rows × 8 columns</p>\n",
       "</div>"
      ],
      "text/plain": [
       "            종목코드               업종  \\\n",
       "회사명                                 \n",
       "JS전선        5560    절연선 및 케이블 제조업   \n",
       "거북선2호     101380              NaN   \n",
       "거북선6호     114140              NaN   \n",
       "교보메리츠      64900              NaN   \n",
       "국제관광공사     28780              NaN   \n",
       "...          ...              ...   \n",
       "툴젠        199800  자연과학 및 공학 연구개발업   \n",
       "플럼라인생명과학  222670  자연과학 및 공학 연구개발업   \n",
       "피엔에이치테크   239890      기초 화학물질 제조업   \n",
       "한국미라클피플사  331660      기타 화학제품 제조업   \n",
       "휴벡셀       212310       의료용 기기 제조업   \n",
       "\n",
       "                                                       주요제품        상장일  결산월  \\\n",
       "회사명                                                                           \n",
       "JS전선                                     선박선,고무선,전력선,통신선 제조 2007-11-12  12월   \n",
       "거북선2호                                           운송장비(선박) 임대 2008-04-25  12월   \n",
       "거북선6호                                                   NaN 2009-10-01  12월   \n",
       "교보메리츠                                             부동산 투자,운용 2002-01-30  12월   \n",
       "국제관광공사                                                  NaN 1966-03-18  12월   \n",
       "...                                                     ...        ...  ...   \n",
       "툴젠        유전자가위 (유전체 교정 도구) 및 이를 이용한 유전자세포치료제, 고부가가치 가축,... 2014-06-25  12월   \n",
       "플럼라인생명과학                                   강아지암치료제,돼지DNA테라피 2015-07-28  12월   \n",
       "피엔에이치테크                              OLED완성체, OLED중간체, Pd촉매 2016-08-16  12월   \n",
       "한국미라클피플사                                     은나노스텝, 닥터오렌지 등 2019-10-28  12월   \n",
       "휴벡셀                                              척추용 임플란트 등 2016-07-26  12월   \n",
       "\n",
       "                       대표자명                      홈페이지       지역  \n",
       "회사명                                                             \n",
       "JS전선                    이익희  http://www.jscable.co.kr     충청남도  \n",
       "거북선2호                   신주선                       NaN    부산광역시  \n",
       "거북선6호                   김연신                       NaN  제주특별자치도  \n",
       "교보메리츠                 김 상 진                       NaN    서울특별시  \n",
       "국제관광공사                  NaN                       NaN      NaN  \n",
       "...                     ...                       ...      ...  \n",
       "툴젠        김영호, 이병화(각자 대표이사)    http://www.toolgen.com    서울특별시  \n",
       "플럼라인생명과학             김앤토니경태     http://www.plsdna.com    서울특별시  \n",
       "피엔에이치테크                 현서용   http://www.phtech.co.kr      경기도  \n",
       "한국미라클피플사                이호경     http://www.kmpc.co.kr      경기도  \n",
       "휴벡셀          박정민, 허성규(각자대표)        http://huvexel.com      경기도  \n",
       "\n",
       "[3910 rows x 8 columns]"
      ]
     },
     "execution_count": 3,
     "metadata": {},
     "output_type": "execute_result"
    }
   ],
   "source": [
    "df=pd.read_excel('company.xlsx', engine='openpyxl',index_col='회사명')\n",
    "df"
   ]
  },
  {
   "cell_type": "code",
   "execution_count": 11,
   "metadata": {},
   "outputs": [
    {
     "name": "stdout",
     "output_type": "stream",
     "text": [
      "회사명 입력: 휴벡셀\n",
      "종목코드                 212310\n",
      "업종               의료용 기기 제조업\n",
      "주요제품             척추용 임플란트 등\n",
      "상장일     2016-07-26 00:00:00\n",
      "결산월                     12월\n",
      "대표자명         박정민, 허성규(각자대표)\n",
      "홈페이지     http://huvexel.com\n",
      "지역                      경기도\n",
      "Name: 휴벡셀, dtype: object\n"
     ]
    }
   ],
   "source": [
    "def c_name():\n",
    "    name=input('회사명 입력: ')\n",
    "    print(df.loc[name])\n",
    "\n",
    "c_name()"
   ]
  },
  {
   "cell_type": "code",
   "execution_count": null,
   "metadata": {},
   "outputs": [],
   "source": [
    "def code():\n",
    "    name=input('회사명 입력: ')\n",
    "    print(df.loc[name]['종목코드'])\n",
    "\n",
    "code()"
   ]
  },
  {
   "cell_type": "code",
   "execution_count": 12,
   "metadata": {},
   "outputs": [
    {
     "data": {
      "text/plain": [
       "212310"
      ]
     },
     "execution_count": 12,
     "metadata": {},
     "output_type": "execute_result"
    }
   ],
   "source": [
    "df.loc['휴벡셀']['종목코드']"
   ]
  },
  {
   "cell_type": "code",
   "execution_count": 13,
   "metadata": {},
   "outputs": [
    {
     "data": {
      "text/plain": [
       "array(['2007-11-12T00:00:00.000000000', '2008-04-25T00:00:00.000000000',\n",
       "       '2009-10-01T00:00:00.000000000', ...,\n",
       "       '2016-08-16T00:00:00.000000000', '2019-10-28T00:00:00.000000000',\n",
       "       '2016-07-26T00:00:00.000000000'], dtype='datetime64[ns]')"
      ]
     },
     "execution_count": 13,
     "metadata": {},
     "output_type": "execute_result"
    }
   ],
   "source": [
    "days=df['상장일'].values\n",
    "days"
   ]
  },
  {
   "cell_type": "code",
   "execution_count": 21,
   "metadata": {},
   "outputs": [
    {
     "data": {
      "text/plain": [
       "Index(['한국4호스팩', '나무기술', '시냅스엠', '영현무역', '인프라웨어테크놀러지', '두산밥캣', '모두투어리츠', '모비스',\n",
       "       '유니온커뮤니티', '유니테크노',\n",
       "       ...\n",
       "       'AP위성', 'GRT', '녹십자랩셀', '얼라인드', '예선테크', '퓨전', '메디젠휴먼케어', '에스케이씨에스',\n",
       "       '피엔에이치테크', '휴벡셀'],\n",
       "      dtype='object', name='회사명', length=132)"
      ]
     },
     "execution_count": 21,
     "metadata": {},
     "output_type": "execute_result"
    }
   ],
   "source": [
    "#연도를 입력하면 그 해에 상장한 회사들을 검색하여 회사이름 출력\n",
    "\n",
    "def f1(year):\n",
    "    check=[]\n",
    "    days=df['상장일'].values.astype(str)\n",
    "    for d in days:\n",
    "        b=(d.split('-')[0]==year)\n",
    "        check.append(b)\n",
    "    check=np.array(check)\n",
    "    return check\n",
    "\n",
    "x=f1('2016')\n",
    "x\n",
    "names=df.index[x]\n",
    "names"
   ]
  },
  {
   "cell_type": "code",
   "execution_count": 10,
   "metadata": {},
   "outputs": [
    {
     "data": {
      "text/plain": [
       "array(['이익희', '신주선', '김연신', ..., '현서용', '이호경', '박정민, 허성규(각자대표)'],\n",
       "      dtype=object)"
      ]
     },
     "execution_count": 10,
     "metadata": {},
     "output_type": "execute_result"
    }
   ],
   "source": [
    "df['대표자명'].values"
   ]
  },
  {
   "cell_type": "code",
   "execution_count": 11,
   "metadata": {},
   "outputs": [
    {
     "data": {
      "text/plain": [
       "['2006', '11', '12']"
      ]
     },
     "execution_count": 11,
     "metadata": {},
     "output_type": "execute_result"
    }
   ],
   "source": [
    "'2006-11-12'.split('-')"
   ]
  }
 ],
 "metadata": {
  "kernelspec": {
   "display_name": "Python 3",
   "language": "python",
   "name": "python3"
  },
  "language_info": {
   "codemirror_mode": {
    "name": "ipython",
    "version": 3
   },
   "file_extension": ".py",
   "mimetype": "text/x-python",
   "name": "python",
   "nbconvert_exporter": "python",
   "pygments_lexer": "ipython3",
   "version": "3.9.5"
  }
 },
 "nbformat": 4,
 "nbformat_minor": 4
}
