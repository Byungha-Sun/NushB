{
 "cells": [
  {
   "cell_type": "code",
   "execution_count": 22,
   "id": "6efff048",
   "metadata": {},
   "outputs": [
    {
     "data": {
      "text/plain": [
       "array([[  1.      ,  43.      ,  65.      ,  78.      , 186.      ,\n",
       "         62.      ],\n",
       "       [  2.      ,  76.      ,  98.      ,  54.      , 228.      ,\n",
       "         76.      ],\n",
       "       [  3.      ,  98.      ,  67.      ,  54.      , 219.      ,\n",
       "         73.      ],\n",
       "       [  4.      ,  54.      ,  98.      ,  67.      , 219.      ,\n",
       "         73.      ],\n",
       "       [  5.      ,  98.      ,  65.      ,  34.      , 197.      ,\n",
       "         65.666664]], dtype=float32)"
      ]
     },
     "execution_count": 22,
     "metadata": {},
     "output_type": "execute_result"
    }
   ],
   "source": [
    "import numpy as np\n",
    "datas=[]\n",
    "f=open('student.txt','r')\n",
    "while True:\n",
    "    s=f.readline() #s:'1,aaa,67,87,56\\n'\n",
    "    \n",
    "    if s=='':\n",
    "        break\n",
    "        \n",
    "    s=s.split('\\n')[0] #s: '1,aaa,67,87,56'\n",
    "    stu=s.split(',')  #stu: ['1','aaa','67','87','56']\n",
    "    \n",
    "    for i in range(0,2):\n",
    "        stu.append(0) #['1','aaa','67','87','56',0,0]\n",
    "    datas.append(stu)\n",
    "f.close()\n",
    "\n",
    "datas\n",
    "arr=np.array(datas) #datas 리스트를 numpy 배열로 변환\n",
    "names=arr[:,0] #모든 줄 0번칼럼(이름)만 추출하여 names에 저장\n",
    "x=arr[:,1:] #모든 열 1~끝컬럼 (번호,국,영,수) 추출해서 x에 저장\n",
    "score=x.astype(np.float32) #점수 배열 요소 타입을 float으로 변경\n",
    "# for i in score: #모든 줄의 총점 및 평균 계산.\n",
    "#     k=i[1:4]\n",
    "#     sum1=k.sum()\n",
    "#     i[4]=sum1\n",
    "#     i[5]=sum1/3\n",
    "    \n",
    "score[:,4]=score[:,1:4].sum(axis=1)\n",
    "score[:,5]=score[:,4]/3\n",
    "score\n"
   ]
  },
  {
   "cell_type": "code",
   "execution_count": 23,
   "id": "70127bfd",
   "metadata": {},
   "outputs": [
    {
     "name": "stdout",
     "output_type": "stream",
     "text": [
      "국어총점: 369.0\n",
      "영어총점: 393.0\n",
      "수학총점: 287.0\n",
      "전체총점: 1049.0\n",
      "전체평균: 349.66666\n"
     ]
    }
   ],
   "source": [
    "#학생들의 국어총점, 영어총점, 수학총점\n",
    "\n",
    "sums=score.sum(axis=0)\n",
    "print('국어총점:', sums[1])\n",
    "print('영어총점:', sums[2])\n",
    "print('수학총점:', sums[3])\n",
    "print('전체총점:', sums[4])\n",
    "print('전체평균:', sums[5])\n"
   ]
  },
  {
   "cell_type": "code",
   "execution_count": 24,
   "id": "df704bdb",
   "metadata": {},
   "outputs": [
    {
     "ename": "SyntaxError",
     "evalue": "invalid syntax (<ipython-input-24-d305c35d3708>, line 4)",
     "output_type": "error",
     "traceback": [
      "\u001b[1;36m  File \u001b[1;32m\"<ipython-input-24-d305c35d3708>\"\u001b[1;36m, line \u001b[1;32m4\u001b[0m\n\u001b[1;33m    if score[i][4]> score[]\u001b[0m\n\u001b[1;37m                          ^\u001b[0m\n\u001b[1;31mSyntaxError\u001b[0m\u001b[1;31m:\u001b[0m invalid syntax\n"
     ]
    }
   ],
   "source": [
    "# #총점 정렬\n",
    "# for i in range(0,4):\n",
    "#     for j in range(0,4-i):\n",
    "#         if score[i][4]> score[]"
   ]
  },
  {
   "cell_type": "code",
   "execution_count": 27,
   "id": "badd3953",
   "metadata": {},
   "outputs": [
    {
     "data": {
      "text/plain": [
       "array([0, 1, 2, 3, 4])"
      ]
     },
     "execution_count": 27,
     "metadata": {},
     "output_type": "execute_result"
    }
   ],
   "source": [
    "a=np.arange(5)\n",
    "a"
   ]
  },
  {
   "cell_type": "code",
   "execution_count": 29,
   "id": "b03e21a2",
   "metadata": {},
   "outputs": [
    {
     "data": {
      "text/plain": [
       "array([False, False,  True,  True,  True])"
      ]
     },
     "execution_count": 29,
     "metadata": {},
     "output_type": "execute_result"
    }
   ],
   "source": [
    "a>1"
   ]
  },
  {
   "cell_type": "code",
   "execution_count": 32,
   "id": "65f635ee",
   "metadata": {},
   "outputs": [
    {
     "data": {
      "text/plain": [
       "array([ True,  True,  True,  True, False])"
      ]
     },
     "execution_count": 32,
     "metadata": {},
     "output_type": "execute_result"
    }
   ],
   "source": [
    "a<4"
   ]
  },
  {
   "cell_type": "code",
   "execution_count": 34,
   "id": "fdcb67ec",
   "metadata": {},
   "outputs": [
    {
     "data": {
      "text/plain": [
       "array([False, False,  True,  True, False])"
      ]
     },
     "execution_count": 34,
     "metadata": {},
     "output_type": "execute_result"
    }
   ],
   "source": [
    "np.logical_and(a>1,a<4)"
   ]
  },
  {
   "cell_type": "code",
   "execution_count": 36,
   "id": "152239e1",
   "metadata": {},
   "outputs": [
    {
     "data": {
      "text/plain": [
       "array([ True, False, False, False,  True])"
      ]
     },
     "execution_count": 36,
     "metadata": {},
     "output_type": "execute_result"
    }
   ],
   "source": [
    "np.logical_or(a<1,a>3)"
   ]
  },
  {
   "cell_type": "code",
   "execution_count": 2,
   "id": "d42e8201",
   "metadata": {},
   "outputs": [],
   "source": [
    "import pandas as pd"
   ]
  },
  {
   "cell_type": "code",
   "execution_count": 6,
   "id": "f4c1443a",
   "metadata": {},
   "outputs": [
    {
     "data": {
      "text/plain": [
       "89"
      ]
     },
     "execution_count": 6,
     "metadata": {},
     "output_type": "execute_result"
    }
   ],
   "source": [
    "s2=pd.Series({'kor':65, 'eng':78, 'math':89})\n",
    "s2['kor']\n",
    "s2['math']"
   ]
  },
  {
   "cell_type": "code",
   "execution_count": 14,
   "id": "c5b5a38b",
   "metadata": {},
   "outputs": [
    {
     "data": {
      "text/plain": [
       "student1    [65, 51, 14]\n",
       "student2    [76, 52, 46]\n",
       "student3     [84, 69, 8]\n",
       "student4    [24, 47, 94]\n",
       "student5    [83, 16, 96]\n",
       "dtype: object"
      ]
     },
     "execution_count": 14,
     "metadata": {},
     "output_type": "execute_result"
    }
   ],
   "source": [
    "import numpy as np\n",
    "idx=[] #사용할 index\n",
    "vals=[] #시리즈로 생성할 값\n",
    "\n",
    "names=['aaa','bbb','ccc','ddd','eee']\n",
    "\n",
    "for i in range(1,6): #인덱스와 성적 자동 생성\n",
    "    s='student'+str(i)\n",
    "    idx.append(s) #생성한 인덱스를 idx에 저장\n",
    "    \n",
    "    val=np.random.randint(0,100,(3))\n",
    "    vals.append(val)\n",
    "    \n",
    "stu=pd.Series(vals,index=idx)\n",
    "stu"
   ]
  },
  {
   "cell_type": "code",
   "execution_count": 12,
   "id": "1e13bfc9",
   "metadata": {},
   "outputs": [
    {
     "data": {
      "text/plain": [
       "['student1', 'student2', 'student3', 'student4', 'student5']"
      ]
     },
     "execution_count": 12,
     "metadata": {},
     "output_type": "execute_result"
    }
   ],
   "source": [
    "idx"
   ]
  },
  {
   "cell_type": "code",
   "execution_count": 15,
   "id": "0b474896",
   "metadata": {},
   "outputs": [
    {
     "data": {
      "text/plain": [
       "[array([65, 51, 14]),\n",
       " array([76, 52, 46]),\n",
       " array([84, 69,  8]),\n",
       " array([24, 47, 94]),\n",
       " array([83, 16, 96])]"
      ]
     },
     "execution_count": 15,
     "metadata": {},
     "output_type": "execute_result"
    }
   ],
   "source": [
    "vals"
   ]
  },
  {
   "cell_type": "code",
   "execution_count": 23,
   "id": "9970b778",
   "metadata": {},
   "outputs": [
    {
     "data": {
      "text/html": [
       "<div>\n",
       "<style scoped>\n",
       "    .dataframe tbody tr th:only-of-type {\n",
       "        vertical-align: middle;\n",
       "    }\n",
       "\n",
       "    .dataframe tbody tr th {\n",
       "        vertical-align: top;\n",
       "    }\n",
       "\n",
       "    .dataframe thead th {\n",
       "        text-align: right;\n",
       "    }\n",
       "</style>\n",
       "<table border=\"1\" class=\"dataframe\">\n",
       "  <thead>\n",
       "    <tr style=\"text-align: right;\">\n",
       "      <th></th>\n",
       "      <th>0</th>\n",
       "      <th>1</th>\n",
       "      <th>2</th>\n",
       "    </tr>\n",
       "  </thead>\n",
       "  <tbody>\n",
       "    <tr>\n",
       "      <th>0</th>\n",
       "      <td>1</td>\n",
       "      <td>2</td>\n",
       "      <td>3</td>\n",
       "    </tr>\n",
       "    <tr>\n",
       "      <th>1</th>\n",
       "      <td>4</td>\n",
       "      <td>5</td>\n",
       "      <td>6</td>\n",
       "    </tr>\n",
       "    <tr>\n",
       "      <th>2</th>\n",
       "      <td>7</td>\n",
       "      <td>8</td>\n",
       "      <td>9</td>\n",
       "    </tr>\n",
       "  </tbody>\n",
       "</table>\n",
       "</div>"
      ],
      "text/plain": [
       "   0  1  2\n",
       "0  1  2  3\n",
       "1  4  5  6\n",
       "2  7  8  9"
      ]
     },
     "execution_count": 23,
     "metadata": {},
     "output_type": "execute_result"
    }
   ],
   "source": [
    "data=[[1,2,3],[4,5,6],[7,8,9]]\n",
    "d1=pd.DataFrame(data)\n",
    "d1"
   ]
  },
  {
   "cell_type": "code",
   "execution_count": 27,
   "id": "06e7bb82",
   "metadata": {},
   "outputs": [
    {
     "data": {
      "text/html": [
       "<div>\n",
       "<style scoped>\n",
       "    .dataframe tbody tr th:only-of-type {\n",
       "        vertical-align: middle;\n",
       "    }\n",
       "\n",
       "    .dataframe tbody tr th {\n",
       "        vertical-align: top;\n",
       "    }\n",
       "\n",
       "    .dataframe thead th {\n",
       "        text-align: right;\n",
       "    }\n",
       "</style>\n",
       "<table border=\"1\" class=\"dataframe\">\n",
       "  <thead>\n",
       "    <tr style=\"text-align: right;\">\n",
       "      <th></th>\n",
       "      <th>col1</th>\n",
       "      <th>col2</th>\n",
       "      <th>col3</th>\n",
       "    </tr>\n",
       "  </thead>\n",
       "  <tbody>\n",
       "    <tr>\n",
       "      <th>row1</th>\n",
       "      <td>1</td>\n",
       "      <td>2</td>\n",
       "      <td>3</td>\n",
       "    </tr>\n",
       "    <tr>\n",
       "      <th>row2</th>\n",
       "      <td>4</td>\n",
       "      <td>5</td>\n",
       "      <td>6</td>\n",
       "    </tr>\n",
       "    <tr>\n",
       "      <th>row3</th>\n",
       "      <td>7</td>\n",
       "      <td>8</td>\n",
       "      <td>9</td>\n",
       "    </tr>\n",
       "  </tbody>\n",
       "</table>\n",
       "</div>"
      ],
      "text/plain": [
       "      col1  col2  col3\n",
       "row1     1     2     3\n",
       "row2     4     5     6\n",
       "row3     7     8     9"
      ]
     },
     "execution_count": 27,
     "metadata": {},
     "output_type": "execute_result"
    }
   ],
   "source": [
    "my_index=['row1','row2','row3']\n",
    "my_col=['col1','col2','col3']\n",
    "d2=pd.DataFrame(data,index=my_index,columns=my_col)\n",
    "d2"
   ]
  },
  {
   "cell_type": "code",
   "execution_count": 31,
   "id": "5747355c",
   "metadata": {},
   "outputs": [
    {
     "data": {
      "text/html": [
       "<div>\n",
       "<style scoped>\n",
       "    .dataframe tbody tr th:only-of-type {\n",
       "        vertical-align: middle;\n",
       "    }\n",
       "\n",
       "    .dataframe tbody tr th {\n",
       "        vertical-align: top;\n",
       "    }\n",
       "\n",
       "    .dataframe thead th {\n",
       "        text-align: right;\n",
       "    }\n",
       "</style>\n",
       "<table border=\"1\" class=\"dataframe\">\n",
       "  <thead>\n",
       "    <tr style=\"text-align: right;\">\n",
       "      <th></th>\n",
       "      <th>name</th>\n",
       "      <th>num</th>\n",
       "      <th>kor</th>\n",
       "      <th>eng</th>\n",
       "      <th>math</th>\n",
       "    </tr>\n",
       "  </thead>\n",
       "  <tbody>\n",
       "    <tr>\n",
       "      <th>stu1</th>\n",
       "      <td>aaa</td>\n",
       "      <td>1</td>\n",
       "      <td>54</td>\n",
       "      <td>74</td>\n",
       "      <td>64</td>\n",
       "    </tr>\n",
       "    <tr>\n",
       "      <th>stu2</th>\n",
       "      <td>bbb</td>\n",
       "      <td>2</td>\n",
       "      <td>56</td>\n",
       "      <td>96</td>\n",
       "      <td>69</td>\n",
       "    </tr>\n",
       "    <tr>\n",
       "      <th>stu3</th>\n",
       "      <td>ccc</td>\n",
       "      <td>3</td>\n",
       "      <td>97</td>\n",
       "      <td>98</td>\n",
       "      <td>91</td>\n",
       "    </tr>\n",
       "    <tr>\n",
       "      <th>stu4</th>\n",
       "      <td>ddd</td>\n",
       "      <td>4</td>\n",
       "      <td>95</td>\n",
       "      <td>87</td>\n",
       "      <td>64</td>\n",
       "    </tr>\n",
       "  </tbody>\n",
       "</table>\n",
       "</div>"
      ],
      "text/plain": [
       "     name  num  kor  eng  math\n",
       "stu1  aaa    1   54   74    64\n",
       "stu2  bbb    2   56   96    69\n",
       "stu3  ccc    3   97   98    91\n",
       "stu4  ddd    4   95   87    64"
      ]
     },
     "execution_count": 31,
     "metadata": {},
     "output_type": "execute_result"
    }
   ],
   "source": [
    "index=['stu1','stu2','stu3','stu4']\n",
    "cols=['name','num','kor','eng','math']\n",
    "vals=[['aaa',1,54,74,64],\n",
    "     ['bbb',2,56,96,69],\n",
    "     ['ccc',3,97,98,91],\n",
    "     ['ddd',4,95,87,64]]\n",
    "d3=pd.DataFrame(vals,index=index,columns=cols)\n",
    "d3"
   ]
  },
  {
   "cell_type": "code",
   "execution_count": 33,
   "id": "e74fb096",
   "metadata": {},
   "outputs": [
    {
     "data": {
      "text/plain": [
       "Index(['stu1', 'stu2', 'stu3', 'stu4'], dtype='object')"
      ]
     },
     "execution_count": 33,
     "metadata": {},
     "output_type": "execute_result"
    }
   ],
   "source": [
    "d3.index"
   ]
  },
  {
   "cell_type": "code",
   "execution_count": 35,
   "id": "10a4abd2",
   "metadata": {},
   "outputs": [
    {
     "data": {
      "text/plain": [
       "Index(['name', 'num', 'kor', 'eng', 'math'], dtype='object')"
      ]
     },
     "execution_count": 35,
     "metadata": {},
     "output_type": "execute_result"
    }
   ],
   "source": [
    "d3.columns"
   ]
  },
  {
   "cell_type": "code",
   "execution_count": 37,
   "id": "67f694ce",
   "metadata": {},
   "outputs": [
    {
     "data": {
      "text/plain": [
       "array([['aaa', 1, 54, 74, 64],\n",
       "       ['bbb', 2, 56, 96, 69],\n",
       "       ['ccc', 3, 97, 98, 91],\n",
       "       ['ddd', 4, 95, 87, 64]], dtype=object)"
      ]
     },
     "execution_count": 37,
     "metadata": {},
     "output_type": "execute_result"
    }
   ],
   "source": [
    "d3.values"
   ]
  },
  {
   "cell_type": "code",
   "execution_count": 43,
   "id": "09f1cc26",
   "metadata": {},
   "outputs": [
    {
     "data": {
      "text/html": [
       "<div>\n",
       "<style scoped>\n",
       "    .dataframe tbody tr th:only-of-type {\n",
       "        vertical-align: middle;\n",
       "    }\n",
       "\n",
       "    .dataframe tbody tr th {\n",
       "        vertical-align: top;\n",
       "    }\n",
       "\n",
       "    .dataframe thead th {\n",
       "        text-align: right;\n",
       "    }\n",
       "</style>\n",
       "<table border=\"1\" class=\"dataframe\">\n",
       "  <thead>\n",
       "    <tr style=\"text-align: right;\">\n",
       "      <th></th>\n",
       "      <th>name</th>\n",
       "      <th>num</th>\n",
       "      <th>kor</th>\n",
       "      <th>eng</th>\n",
       "      <th>math</th>\n",
       "      <th>index</th>\n",
       "    </tr>\n",
       "  </thead>\n",
       "  <tbody>\n",
       "    <tr>\n",
       "      <th>1</th>\n",
       "      <td>aaa</td>\n",
       "      <td>1</td>\n",
       "      <td>54</td>\n",
       "      <td>74</td>\n",
       "      <td>64</td>\n",
       "      <td>sut1</td>\n",
       "    </tr>\n",
       "    <tr>\n",
       "      <th>2</th>\n",
       "      <td>bbb</td>\n",
       "      <td>2</td>\n",
       "      <td>56</td>\n",
       "      <td>96</td>\n",
       "      <td>69</td>\n",
       "      <td>stu2</td>\n",
       "    </tr>\n",
       "    <tr>\n",
       "      <th>3</th>\n",
       "      <td>ccc</td>\n",
       "      <td>3</td>\n",
       "      <td>97</td>\n",
       "      <td>98</td>\n",
       "      <td>91</td>\n",
       "      <td>stu3</td>\n",
       "    </tr>\n",
       "    <tr>\n",
       "      <th>4</th>\n",
       "      <td>ddd</td>\n",
       "      <td>4</td>\n",
       "      <td>95</td>\n",
       "      <td>87</td>\n",
       "      <td>64</td>\n",
       "      <td>stu4</td>\n",
       "    </tr>\n",
       "  </tbody>\n",
       "</table>\n",
       "</div>"
      ],
      "text/plain": [
       "  name  num  kor  eng  math index\n",
       "1  aaa    1   54   74    64  sut1\n",
       "2  bbb    2   56   96    69  stu2\n",
       "3  ccc    3   97   98    91  stu3\n",
       "4  ddd    4   95   87    64  stu4"
      ]
     },
     "execution_count": 43,
     "metadata": {},
     "output_type": "execute_result"
    }
   ],
   "source": [
    "dic={\n",
    "    'name':['aaa','bbb','ccc','ddd'],\n",
    "    'num' :[1,2,3,4],\n",
    "    'kor' :[54,56,97,95],\n",
    "    'eng' :[74,96,98,87],\n",
    "    'math':[64,69,91,64],\n",
    "    'index':['sut1','stu2','stu3','stu4']\n",
    "}\n",
    "d4=pd.DataFrame(dic,index=index)\n",
    "d4\n",
    "\n",
    "idx=np.arange(1,5)\n",
    "d4=pd.DataFrame(dic,index=idx)\n",
    "d4"
   ]
  },
  {
   "cell_type": "code",
   "execution_count": 45,
   "id": "38dff410",
   "metadata": {},
   "outputs": [
    {
     "data": {
      "text/plain": [
       "0    6.0\n",
       "1    6.0\n",
       "2    8.0\n",
       "3    NaN\n",
       "dtype: float64"
      ]
     },
     "execution_count": 45,
     "metadata": {},
     "output_type": "execute_result"
    }
   ],
   "source": [
    "a=pd.Series([1,2,3,4])\n",
    "b=pd.Series([5,4,5])\n",
    "a+b"
   ]
  },
  {
   "cell_type": "code",
   "execution_count": 48,
   "id": "9316ceec",
   "metadata": {},
   "outputs": [
    {
     "data": {
      "text/html": [
       "<div>\n",
       "<style scoped>\n",
       "    .dataframe tbody tr th:only-of-type {\n",
       "        vertical-align: middle;\n",
       "    }\n",
       "\n",
       "    .dataframe tbody tr th {\n",
       "        vertical-align: top;\n",
       "    }\n",
       "\n",
       "    .dataframe thead th {\n",
       "        text-align: right;\n",
       "    }\n",
       "</style>\n",
       "<table border=\"1\" class=\"dataframe\">\n",
       "  <thead>\n",
       "    <tr style=\"text-align: right;\">\n",
       "      <th></th>\n",
       "      <th>이름</th>\n",
       "      <th>국어</th>\n",
       "      <th>영어</th>\n",
       "      <th>수학</th>\n",
       "    </tr>\n",
       "  </thead>\n",
       "  <tbody>\n",
       "    <tr>\n",
       "      <th>0</th>\n",
       "      <td>aaa</td>\n",
       "      <td>43</td>\n",
       "      <td>54</td>\n",
       "      <td>65</td>\n",
       "    </tr>\n",
       "    <tr>\n",
       "      <th>1</th>\n",
       "      <td>bbb</td>\n",
       "      <td>7</td>\n",
       "      <td>67</td>\n",
       "      <td>87</td>\n",
       "    </tr>\n",
       "    <tr>\n",
       "      <th>2</th>\n",
       "      <td>ccc</td>\n",
       "      <td>54</td>\n",
       "      <td>65</td>\n",
       "      <td>76</td>\n",
       "    </tr>\n",
       "  </tbody>\n",
       "</table>\n",
       "</div>"
      ],
      "text/plain": [
       "    이름  국어  영어  수학\n",
       "0  aaa  43  54  65\n",
       "1  bbb   7  67  87\n",
       "2  ccc  54  65  76"
      ]
     },
     "execution_count": 48,
     "metadata": {},
     "output_type": "execute_result"
    }
   ],
   "source": [
    "data=pd.read_csv('a.csv')\n",
    "data"
   ]
  },
  {
   "cell_type": "code",
   "execution_count": 54,
   "id": "82a922d7",
   "metadata": {},
   "outputs": [
    {
     "data": {
      "text/html": [
       "<div>\n",
       "<style scoped>\n",
       "    .dataframe tbody tr th:only-of-type {\n",
       "        vertical-align: middle;\n",
       "    }\n",
       "\n",
       "    .dataframe tbody tr th {\n",
       "        vertical-align: top;\n",
       "    }\n",
       "\n",
       "    .dataframe thead th {\n",
       "        text-align: right;\n",
       "    }\n",
       "</style>\n",
       "<table border=\"1\" class=\"dataframe\">\n",
       "  <thead>\n",
       "    <tr style=\"text-align: right;\">\n",
       "      <th></th>\n",
       "      <th>발생년</th>\n",
       "      <th>사고건수</th>\n",
       "      <th>사망자수</th>\n",
       "      <th>중상자수</th>\n",
       "      <th>경상자수</th>\n",
       "      <th>부상신고자수</th>\n",
       "    </tr>\n",
       "  </thead>\n",
       "  <tbody>\n",
       "    <tr>\n",
       "      <th>0</th>\n",
       "      <td>2015</td>\n",
       "      <td>232035</td>\n",
       "      <td>4621</td>\n",
       "      <td>92522</td>\n",
       "      <td>233646</td>\n",
       "      <td>24232</td>\n",
       "    </tr>\n",
       "    <tr>\n",
       "      <th>1</th>\n",
       "      <td>2016</td>\n",
       "      <td>220917</td>\n",
       "      <td>4292</td>\n",
       "      <td>82463</td>\n",
       "      <td>226283</td>\n",
       "      <td>22974</td>\n",
       "    </tr>\n",
       "    <tr>\n",
       "      <th>2</th>\n",
       "      <td>2017</td>\n",
       "      <td>216335</td>\n",
       "      <td>4185</td>\n",
       "      <td>78212</td>\n",
       "      <td>223200</td>\n",
       "      <td>21417</td>\n",
       "    </tr>\n",
       "    <tr>\n",
       "      <th>3</th>\n",
       "      <td>2018</td>\n",
       "      <td>217148</td>\n",
       "      <td>3781</td>\n",
       "      <td>74258</td>\n",
       "      <td>227511</td>\n",
       "      <td>21268</td>\n",
       "    </tr>\n",
       "    <tr>\n",
       "      <th>4</th>\n",
       "      <td>2019</td>\n",
       "      <td>229600</td>\n",
       "      <td>3349</td>\n",
       "      <td>72306</td>\n",
       "      <td>245524</td>\n",
       "      <td>23882</td>\n",
       "    </tr>\n",
       "  </tbody>\n",
       "</table>\n",
       "</div>"
      ],
      "text/plain": [
       "    발생년    사고건수  사망자수   중상자수    경상자수  부상신고자수\n",
       "0  2015  232035  4621  92522  233646   24232\n",
       "1  2016  220917  4292  82463  226283   22974\n",
       "2  2017  216335  4185  78212  223200   21417\n",
       "3  2018  217148  3781  74258  227511   21268\n",
       "4  2019  229600  3349  72306  245524   23882"
      ]
     },
     "execution_count": 54,
     "metadata": {},
     "output_type": "execute_result"
    }
   ],
   "source": [
    "acc=pd.read_csv('car_accident.csv',encoding='euc-kr')\n",
    "acc\n"
   ]
  },
  {
   "cell_type": "code",
   "execution_count": 55,
   "id": "9789273f",
   "metadata": {},
   "outputs": [
    {
     "data": {
      "text/html": [
       "<div>\n",
       "<style scoped>\n",
       "    .dataframe tbody tr th:only-of-type {\n",
       "        vertical-align: middle;\n",
       "    }\n",
       "\n",
       "    .dataframe tbody tr th {\n",
       "        vertical-align: top;\n",
       "    }\n",
       "\n",
       "    .dataframe thead th {\n",
       "        text-align: right;\n",
       "    }\n",
       "</style>\n",
       "<table border=\"1\" class=\"dataframe\">\n",
       "  <thead>\n",
       "    <tr style=\"text-align: right;\">\n",
       "      <th></th>\n",
       "      <th>발생년</th>\n",
       "      <th>사고건수</th>\n",
       "      <th>사망자수</th>\n",
       "      <th>중상자수</th>\n",
       "      <th>경상자수</th>\n",
       "      <th>부상신고자수</th>\n",
       "    </tr>\n",
       "  </thead>\n",
       "  <tbody>\n",
       "    <tr>\n",
       "      <th>count</th>\n",
       "      <td>5.000000</td>\n",
       "      <td>5.000000</td>\n",
       "      <td>5.000000</td>\n",
       "      <td>5.000000</td>\n",
       "      <td>5.000000</td>\n",
       "      <td>5.000000</td>\n",
       "    </tr>\n",
       "    <tr>\n",
       "      <th>mean</th>\n",
       "      <td>2017.000000</td>\n",
       "      <td>223207.000000</td>\n",
       "      <td>4045.600000</td>\n",
       "      <td>79952.200000</td>\n",
       "      <td>231232.800000</td>\n",
       "      <td>22754.600000</td>\n",
       "    </tr>\n",
       "    <tr>\n",
       "      <th>std</th>\n",
       "      <td>1.581139</td>\n",
       "      <td>7210.825161</td>\n",
       "      <td>491.552439</td>\n",
       "      <td>8034.621534</td>\n",
       "      <td>8845.056851</td>\n",
       "      <td>1369.400526</td>\n",
       "    </tr>\n",
       "    <tr>\n",
       "      <th>min</th>\n",
       "      <td>2015.000000</td>\n",
       "      <td>216335.000000</td>\n",
       "      <td>3349.000000</td>\n",
       "      <td>72306.000000</td>\n",
       "      <td>223200.000000</td>\n",
       "      <td>21268.000000</td>\n",
       "    </tr>\n",
       "    <tr>\n",
       "      <th>25%</th>\n",
       "      <td>2016.000000</td>\n",
       "      <td>217148.000000</td>\n",
       "      <td>3781.000000</td>\n",
       "      <td>74258.000000</td>\n",
       "      <td>226283.000000</td>\n",
       "      <td>21417.000000</td>\n",
       "    </tr>\n",
       "    <tr>\n",
       "      <th>50%</th>\n",
       "      <td>2017.000000</td>\n",
       "      <td>220917.000000</td>\n",
       "      <td>4185.000000</td>\n",
       "      <td>78212.000000</td>\n",
       "      <td>227511.000000</td>\n",
       "      <td>22974.000000</td>\n",
       "    </tr>\n",
       "    <tr>\n",
       "      <th>75%</th>\n",
       "      <td>2018.000000</td>\n",
       "      <td>229600.000000</td>\n",
       "      <td>4292.000000</td>\n",
       "      <td>82463.000000</td>\n",
       "      <td>233646.000000</td>\n",
       "      <td>23882.000000</td>\n",
       "    </tr>\n",
       "    <tr>\n",
       "      <th>max</th>\n",
       "      <td>2019.000000</td>\n",
       "      <td>232035.000000</td>\n",
       "      <td>4621.000000</td>\n",
       "      <td>92522.000000</td>\n",
       "      <td>245524.000000</td>\n",
       "      <td>24232.000000</td>\n",
       "    </tr>\n",
       "  </tbody>\n",
       "</table>\n",
       "</div>"
      ],
      "text/plain": [
       "               발생년           사고건수         사망자수          중상자수           경상자수  \\\n",
       "count     5.000000       5.000000     5.000000      5.000000       5.000000   \n",
       "mean   2017.000000  223207.000000  4045.600000  79952.200000  231232.800000   \n",
       "std       1.581139    7210.825161   491.552439   8034.621534    8845.056851   \n",
       "min    2015.000000  216335.000000  3349.000000  72306.000000  223200.000000   \n",
       "25%    2016.000000  217148.000000  3781.000000  74258.000000  226283.000000   \n",
       "50%    2017.000000  220917.000000  4185.000000  78212.000000  227511.000000   \n",
       "75%    2018.000000  229600.000000  4292.000000  82463.000000  233646.000000   \n",
       "max    2019.000000  232035.000000  4621.000000  92522.000000  245524.000000   \n",
       "\n",
       "             부상신고자수  \n",
       "count      5.000000  \n",
       "mean   22754.600000  \n",
       "std     1369.400526  \n",
       "min    21268.000000  \n",
       "25%    21417.000000  \n",
       "50%    22974.000000  \n",
       "75%    23882.000000  \n",
       "max    24232.000000  "
      ]
     },
     "execution_count": 55,
     "metadata": {},
     "output_type": "execute_result"
    }
   ],
   "source": [
    "acc.describe()"
   ]
  }
 ],
 "metadata": {
  "kernelspec": {
   "display_name": "Python 3",
   "language": "python",
   "name": "python3"
  },
  "language_info": {
   "codemirror_mode": {
    "name": "ipython",
    "version": 3
   },
   "file_extension": ".py",
   "mimetype": "text/x-python",
   "name": "python",
   "nbconvert_exporter": "python",
   "pygments_lexer": "ipython3",
   "version": "3.9.5"
  }
 },
 "nbformat": 4,
 "nbformat_minor": 5
}
