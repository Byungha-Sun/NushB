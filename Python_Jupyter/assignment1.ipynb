{
 "cells": [
  {
   "cell_type": "code",
   "execution_count": 39,
   "id": "d5568268",
   "metadata": {},
   "outputs": [],
   "source": [
    "import numpy as np"
   ]
  },
  {
   "cell_type": "code",
   "execution_count": 55,
   "id": "548ebb47",
   "metadata": {
    "scrolled": true
   },
   "outputs": [
    {
     "data": {
      "text/plain": [
       "['1,aaa,43,65,78\\n',\n",
       " '2,bbb,76,98,54\\n',\n",
       " '3,ccc,98,67,54\\n',\n",
       " '4,ddd,54,98,67\\n',\n",
       " '5,eee,98,65,34']"
      ]
     },
     "execution_count": 55,
     "metadata": {},
     "output_type": "execute_result"
    }
   ],
   "source": [
    "f=open('C:/Users/Administrator/PycharmProjects/pythonProject/student.txt','r')\n",
    "a=f.readlines()\n",
    "f.close()\n",
    "a"
   ]
  },
  {
   "cell_type": "code",
   "execution_count": 56,
   "id": "7b7a9ef8",
   "metadata": {},
   "outputs": [
    {
     "data": {
      "text/plain": [
       "[['1', 'aaa', '43', '65', '78'],\n",
       " ['2', 'bbb', '76', '98', '54'],\n",
       " ['3', 'ccc', '98', '67', '54'],\n",
       " ['4', 'ddd', '54', '98', '67'],\n",
       " ['5', 'eee', '98', '65', '34']]"
      ]
     },
     "execution_count": 56,
     "metadata": {},
     "output_type": "execute_result"
    }
   ],
   "source": [
    "new_list=[]\n",
    "for lines in a:\n",
    "    stripped=lines.strip()\n",
    "    new_list.append(stripped)\n",
    "new_list\n",
    "s=[]\n",
    "for i in new_list:\n",
    "    s.append(i.split(','))\n",
    "s"
   ]
  },
  {
   "cell_type": "code",
   "execution_count": 57,
   "id": "b9d3f45f",
   "metadata": {},
   "outputs": [
    {
     "data": {
      "text/plain": [
       "array([['1', 'aaa', '43', '65', '78'],\n",
       "       ['2', 'bbb', '76', '98', '54'],\n",
       "       ['3', 'ccc', '98', '67', '54'],\n",
       "       ['4', 'ddd', '54', '98', '67'],\n",
       "       ['5', 'eee', '98', '65', '34']], dtype='<U3')"
      ]
     },
     "execution_count": 57,
     "metadata": {},
     "output_type": "execute_result"
    }
   ],
   "source": [
    "arr=np.array(s)\n",
    "arr"
   ]
  },
  {
   "cell_type": "code",
   "execution_count": 49,
   "id": "43886d4e",
   "metadata": {},
   "outputs": [
    {
     "data": {
      "text/plain": [
       "array([['1', 'aaa', '43', '65', '78'],\n",
       "       ['2', 'bbb', '76', '98', '54'],\n",
       "       ['3', 'ccc', '98', '67', '54'],\n",
       "       ['4', 'ddd', '54', '98', '67'],\n",
       "       ['5', 'eee', '98', '65', '34']], dtype='<U3')"
      ]
     },
     "execution_count": 49,
     "metadata": {},
     "output_type": "execute_result"
    }
   ],
   "source": [
    "arr[:,0].astype(int)\n"
   ]
  }
 ],
 "metadata": {
  "kernelspec": {
   "display_name": "Python 3",
   "language": "python",
   "name": "python3"
  },
  "language_info": {
   "codemirror_mode": {
    "name": "ipython",
    "version": 3
   },
   "file_extension": ".py",
   "mimetype": "text/x-python",
   "name": "python",
   "nbconvert_exporter": "python",
   "pygments_lexer": "ipython3",
   "version": "3.9.5"
  }
 },
 "nbformat": 4,
 "nbformat_minor": 5
}
